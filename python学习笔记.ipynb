{
 "cells": [
  {
   "cell_type": "code",
   "execution_count": 2,
   "metadata": {},
   "outputs": [],
   "source": [
    "import pyperclip \n",
    "import numpy as np \n",
    "import pandas as pd\n",
    "import os\n",
    "import re\n",
    "from typing import List, Tuple, Dict, TextIO"
   ]
  },
  {
   "cell_type": "code",
   "execution_count": null,
   "metadata": {},
   "outputs": [],
   "source": [
    "# 数学操作math库;\n",
    "# 时间操作的datetime库;\n",
    "# 数组等操作的numpypython库;\n",
    "# 可视化的matplotlib seaborn库;\n",
    "# 文件操作的os库;\n",
    "# 机器学习的sklearn库;"
   ]
  },
  {
   "cell_type": "markdown",
   "metadata": {},
   "source": [
    "### np相关考点"
   ]
  },
  {
   "cell_type": "code",
   "execution_count": null,
   "metadata": {},
   "outputs": [],
   "source": [
    "a = np.array([[4,12,6,9]\n",
    "            ,[10,8,12,7]\n",
    "            , [6,8,5,2]]) \n",
    "print (np.ptp(a, axis =  0))\n",
    "\n",
    "# ptp  Range (Peak-to-Peak): max - min\n",
    "# axis = 0 沿着列计算\n",
    "# axis = 1 沿着行计算\n",
    "# so, 10-4=6, 12-8=4, 12-5=7,9-2=7\n",
    "# we have [6,4,7,7]"
   ]
  },
  {
   "cell_type": "code",
   "execution_count": 4,
   "metadata": {},
   "outputs": [
    {
     "name": "stdout",
     "output_type": "stream",
     "text": [
      "[[2 4]\n",
      " [6 8]]\n"
     ]
    }
   ],
   "source": [
    "a = np.array([[1, 2]\n",
    "            ,[3, 4]])\n",
    "b = np.sum(np.array([a, a]), axis=0)\n",
    "print(b)\n",
    "# np.array([a, a]:将数组 `a` 与其自身堆叠来创建一个新数组\n",
    "# [ [ [1, 2],\n",
    "#     [3, 4] ],\n",
    "\n",
    "#   [ [1, 2],\n",
    "#     [3, 4] ] ]\n",
    "# axis=0:沿轴对数组求和\n",
    "# - 对于每层的第一个元素（左上角），它相加 `1 + 1 = 2`。\n",
    "# - 对于每层中的第二个元素（右上角），它相加 `2 + 2 = 4`。\n",
    "# - 对于每层中的第三个元素（左下角），它相加 `3 + 3 = 6`。\n",
    "# - 对于每层中的第四个元素（右下角），它相加 `4 + 4 = 8`。\n",
    "# we have\n",
    "# [[2, 4],\n",
    "#  [6, 8]]"
   ]
  },
  {
   "cell_type": "code",
   "execution_count": 3,
   "metadata": {},
   "outputs": [
    {
     "name": "stdout",
     "output_type": "stream",
     "text": [
      "[[4 6]\n",
      " [4 6]]\n"
     ]
    }
   ],
   "source": [
    "# 如果axis=1呢？\n",
    "a = np.array([[1, 2]\n",
    "            ,[3, 4]])\n",
    "b = np.sum(np.array([a, a]), axis=1)\n",
    "print(b)\n",
    "# [[1, 2],    =>  [1+3, 2+4]  =>  [4, 6]\n",
    "#  [3, 4]]\n"
   ]
  },
  {
   "cell_type": "code",
   "execution_count": null,
   "metadata": {},
   "outputs": [],
   "source": [
    "# 7.如何将dataframe格式转化为ndarray格式?\n",
    "# 直接才使用取值的方法:data.values\n",
    "# 采用numpy的数组方法:np.array(data)"
   ]
  },
  {
   "cell_type": "code",
   "execution_count": 5,
   "metadata": {},
   "outputs": [
    {
     "ename": "UFuncTypeError",
     "evalue": "ufunc 'multiply' did not contain a loop with signature matching types (dtype('<U1'), dtype('int64')) -> None",
     "output_type": "error",
     "traceback": [
      "\u001b[0;31m---------------------------------------------------------------------------\u001b[0m",
      "\u001b[0;31mUFuncTypeError\u001b[0m                            Traceback (most recent call last)",
      "\u001b[0;32m/var/folders/yk/k4_16cgj7ln9r39_p91t86lw0000gn/T/ipykernel_43722/1337616207.py\u001b[0m in \u001b[0;36m<module>\u001b[0;34m\u001b[0m\n\u001b[1;32m      1\u001b[0m \u001b[0marr4\u001b[0m \u001b[0;34m=\u001b[0m \u001b[0mnp\u001b[0m\u001b[0;34m.\u001b[0m\u001b[0marray\u001b[0m\u001b[0;34m(\u001b[0m\u001b[0;34m[\u001b[0m\u001b[0;34m'a'\u001b[0m\u001b[0;34m]\u001b[0m\u001b[0;34m)\u001b[0m\u001b[0;34m\u001b[0m\u001b[0;34m\u001b[0m\u001b[0m\n\u001b[1;32m      2\u001b[0m \u001b[0marr5\u001b[0m \u001b[0;34m=\u001b[0m \u001b[0mnp\u001b[0m\u001b[0;34m.\u001b[0m\u001b[0marray\u001b[0m\u001b[0;34m(\u001b[0m\u001b[0;34m[\u001b[0m\u001b[0;34m[\u001b[0m\u001b[0;36m10\u001b[0m\u001b[0;34m]\u001b[0m\u001b[0;34m]\u001b[0m\u001b[0;34m)\u001b[0m\u001b[0;34m\u001b[0m\u001b[0;34m\u001b[0m\u001b[0m\n\u001b[0;32m----> 3\u001b[0;31m \u001b[0mnp\u001b[0m\u001b[0;34m.\u001b[0m\u001b[0mmultiply\u001b[0m\u001b[0;34m(\u001b[0m\u001b[0marr4\u001b[0m\u001b[0;34m,\u001b[0m \u001b[0marr5\u001b[0m\u001b[0;34m)\u001b[0m\u001b[0;34m\u001b[0m\u001b[0;34m\u001b[0m\u001b[0m\n\u001b[0m",
      "\u001b[0;31mUFuncTypeError\u001b[0m: ufunc 'multiply' did not contain a loop with signature matching types (dtype('<U1'), dtype('int64')) -> None"
     ]
    }
   ],
   "source": [
    "arr4 = np.array(['a'])\n",
    "arr5 = np.array([[10]])\n",
    "np.multiply(arr4, arr5)"
   ]
  },
  {
   "cell_type": "code",
   "execution_count": 15,
   "metadata": {},
   "outputs": [
    {
     "data": {
      "text/plain": [
       "array(['aa', 'aa', 'aa'], dtype='<U2')"
      ]
     },
     "execution_count": 15,
     "metadata": {},
     "output_type": "execute_result"
    }
   ],
   "source": [
    "np.array(['aa'] * 3 )"
   ]
  },
  {
   "cell_type": "markdown",
   "metadata": {},
   "source": [
    "### pd & df 相关考点"
   ]
  },
  {
   "cell_type": "markdown",
   "metadata": {},
   "source": []
  },
  {
   "cell_type": "markdown",
   "metadata": {},
   "source": [
    "### 其他"
   ]
  },
  {
   "cell_type": "code",
   "execution_count": null,
   "metadata": {},
   "outputs": [],
   "source": [
    "#  modulo operator (%) to calculate the remainder when 4 is divided by 2.\n",
    "4%2"
   ]
  },
  {
   "cell_type": "code",
   "execution_count": null,
   "metadata": {},
   "outputs": [],
   "source": [
    "# 10.Python对于可选代对象的排序函数sort和sorted的区别?\n",
    "List.sort(reverse = True) # sort仅对列表进行排序,其中reverse为逆序,并且在原来列表上进行修改,不返回新的值,无需复制原有列表,占用内存小,效率高。\n",
    "sorted('可迭代对象',reverse=True) #:不仅作用于列表,可以对所有可迭代对象进行排序,并且会返回新的对象,原对象不改变,占用内存相对更大。\n",
    "# --------------------------------------------------------------\n",
    "# --------------------------------------------------------------\n",
    "# Create a sample DataFrame\n",
    "data = {'名字': ['张三', '李四', '王五', '赵六'],\n",
    "        '年龄': [25, 30, 22, 28],\n",
    "        '分数': [85, 92, 78, 95]}\n",
    "df = pd.DataFrame(data)\n",
    "# Sort by '年龄' in ascending order\n",
    "df_sorted = df.sort_values(by='年龄', ascending=True) # 对于dataframe对象,按照某个字段进行排序\n",
    "print(df_sorted)"
   ]
  },
  {
   "cell_type": "code",
   "execution_count": null,
   "metadata": {},
   "outputs": [],
   "source": [
    "ss = 'a1b2c3d4e5f6g7'\n",
    "print(ss[0:2])\n",
    "print(ss[0:3])\n",
    "print(ss[-3:])\n",
    "print(ss[-3:-1])\n",
    "print(ss[10:] + ss[:3])\n",
    "# python里的顺序是0开始，冒号后一个index不算"
   ]
  },
  {
   "cell_type": "code",
   "execution_count": null,
   "metadata": {},
   "outputs": [],
   "source": [
    "from datetime import datetime\n",
    "\n",
    "# datetime object\n",
    "dt = datetime.now()\n",
    "print(type(dt),dt)  # 时间戳类型\n",
    "\n",
    "# time object\n",
    "t = dt.time()\n",
    "print(type(t),t)  # 返回为字符型\n",
    "\n",
    "# date object\n",
    "d = dt.date()\n",
    "print(type(d),d)  # 返回为日期型\n",
    "\n",
    "# year\n",
    "y = dt.year\n",
    "print(type(y),y)  # 返回结果为数值型"
   ]
  },
  {
   "cell_type": "code",
   "execution_count": null,
   "metadata": {},
   "outputs": [],
   "source": [
    "# Python如何将一列数据从字符串转化为整型?\n",
    "data['列名'].astype(int)\n",
    "data['列名'].apply(lambda x:int(x))"
   ]
  },
  {
   "cell_type": "code",
   "execution_count": null,
   "metadata": {},
   "outputs": [],
   "source": [
    "# Python如何截取某列字符串前两个字母?\n",
    "data['列名'].apply(lambda x:x[:2])"
   ]
  },
  {
   "cell_type": "code",
   "execution_count": null,
   "metadata": {},
   "outputs": [],
   "source": [
    "### 深拷贝和浅拷贝的区别?\n",
    "# 浅拷贝 采用copy.copy()进行复制,对于浅拷贝只是复制了对象的地址,拷贝后对象变化,原对象也会发生变化\n",
    "# 深拷贝 采用copy.deepcopy() 进行复制, 深拷贝不仅拷贝链接也拷贝底部值,拷贝后对象变化,原对象不会发生变化。\n",
    "import copy\n",
    "# Original list\n",
    "original = [1, [2, 3], 4]\n",
    "print(original) \n",
    "# Shallow copy\n",
    "shallow = copy.copy(original)\n",
    "# Deep copy\n",
    "deep = copy.deepcopy(original)\n",
    "# Modify the nested list\n",
    "original[1][0] = 'X'\n",
    "print(\"Original:\", original)    # [1, ['X', 3], 4]\n",
    "print(\"Shallow:\", shallow)      # [1, ['X', 3], 4]\n",
    "print(\"Deep:\", deep)            # [1, [2, 3], 4]\n",
    "\n",
    "shallow[1][1] = 'Y'\n",
    "print(\"Original:\", original)"
   ]
  },
  {
   "cell_type": "code",
   "execution_count": null,
   "metadata": {},
   "outputs": [],
   "source": [
    "# DataFrame表格的合并merge、join、concat、append区别?\n",
    "#1. Merge主要用于横向合并,,默认采用how='inner'的内链接\n",
    "pd.merge([数据1,数据2],on='连接键',how='left_on') # how=连接方式,还有right_on,left_index,right_on\n",
    "#2. Concat可以实现横向或者纵向连接,用axis进行设置,默认axis=0纵向进行合并。\n",
    "Pd.concat([数据1,数据2],axis=0,ignore_index='Ture') # ignore_index 是否忽略原来索引"
   ]
  },
  {
   "cell_type": "code",
   "execution_count": null,
   "metadata": {},
   "outputs": [],
   "source": [
    "#3. Join:主要用于横向合并。Data1.join(data2,how=合并方式,lsuffix=,rsuffix=设置下标),merge特殊情况,默认为left join情况\n",
    "# Data1:\n",
    "#    A      B\n",
    "# X  1    one\n",
    "# Y  2    two\n",
    "# Z  3  three\n",
    "# Data2:\n",
    "#    A      C\n",
    "# Y  4   four\n",
    "# Z  5   five\n",
    "# W  6    six\n",
    "Data1 = pd.DataFrame({\n",
    "    'A': [1, 2, 3],\n",
    "    'B': ['one', 'two', 'three']\n",
    "}, index=['X', 'Y', 'Z'])\n",
    "Data2 = pd.DataFrame({\n",
    "    'A': [4, 5, 6],\n",
    "    'C': ['four', 'five', 'six']\n",
    "}, index=['Y', 'Z', 'W'])\n",
    "\n",
    "result_inner = Data1.join(Data2, how='inner', lsuffix='_left', rsuffix='_right') ##lsuffix和rsuffix在两个表中有相同名字的列\n",
    "# we have:\n",
    "#    A_left      B  A_right     C\n",
    "# Y       2    two        4  four\n",
    "# Z       3  three        5  five\n",
    "result_left = Data1.join(Data2, how='left', lsuffix='_left', rsuffix='_right')\n",
    "# we have:\n",
    "#    A_left      B  A_right     C\n",
    "# X       1    one      NaN   NaN\n",
    "# Y       2    two      4.0  four\n",
    "# Z       3  three      5.0  five\n",
    "result_right = Data1.join(Data2, how='right', lsuffix='_left', rsuffix='_right')\n",
    "# we have:\n",
    "#    A_left      B  A_right     C\n",
    "# Y     2.0    two        4  four\n",
    "# Z     3.0  three        5  five\n",
    "# W     NaN    NaN        6   six\n"
   ]
  },
  {
   "cell_type": "code",
   "execution_count": null,
   "metadata": {},
   "outputs": [],
   "source": [
    "#4. Append:实现纵向尾部追加。\n",
    "Data1.append(Data2,ignore_index='False')"
   ]
  },
  {
   "cell_type": "code",
   "execution_count": null,
   "metadata": {},
   "outputs": [],
   "source": [
    "# Python中的is和==的区别?\n",
    "# python中的对象包括id(地址)、值、数据类型三个部分。\n",
    "# Is主要用于判断两个对象的地址(id)是否相同;\n",
    "# ==主要对比两个对象的值是否相等。"
   ]
  },
  {
   "cell_type": "code",
   "execution_count": null,
   "metadata": {},
   "outputs": [],
   "source": [
    "# 如何判断某个字符串或者元素在列表中?\n",
    "# 采用in判断某个元素是否在列表中。Xin list,如果x在list中,则返回true,否则返回False。"
   ]
  },
  {
   "cell_type": "code",
   "execution_count": null,
   "metadata": {},
   "outputs": [],
   "source": [
    "text = \"Hello, world!\"\n",
    "substring1 = \"world\"\n",
    "substring2 = \"Python\"\n",
    "\n",
    "# Check if substring1 is in the text\n",
    "print(substring1 in text)  # Output: True\n",
    "\n",
    "# Check if substring2 is in the text\n",
    "print(substring2 in text)  # Output: False"
   ]
  },
  {
   "cell_type": "code",
   "execution_count": null,
   "metadata": {},
   "outputs": [],
   "source": [
    "# find查找(字符串的方法):字符串.find(子字符串,起始查找字符串索引,结束查找字符串索引),查找在规定范围内第一次出现子字符串的索引;查找不到返回-1\n",
    "text = \"Hello, world! Welcome to the world of Python.\"\n",
    "substring = \"world\"\n",
    "\n",
    "# Find the first occurrence of 'world'\n",
    "print(text.find(substring))  # Output: 7\n",
    "text[7:]\n",
    "\n",
    "# Find 'world' starting from index 10\n",
    "print(text.find(substring, 10))  # Output: 22\n",
    "\n",
    "# Find 'world' in a specific range\n",
    "print(text.find(substring, 0, 13))  # Output: 7"
   ]
  },
  {
   "cell_type": "code",
   "execution_count": null,
   "metadata": {},
   "outputs": [],
   "source": [
    "# Rfind:与find相似,但是返回最后一个出现位置索引;\n",
    "text = \"Hello, world! Welcome to the world of Python.\"\n",
    "substring = \"world\"\n",
    "\n",
    "# Find the last occurrence of 'world'\n",
    "print(text.rfind(substring))  # Output: 22\n",
    "\n",
    "# Find the last occurrence of 'world' in a specific range\n",
    "print(text.rfind(substring, 0, 20))  # Output: 7"
   ]
  },
  {
   "cell_type": "code",
   "execution_count": null,
   "metadata": {},
   "outputs": [],
   "source": [
    "# Index:字符串.index(子字符串,起始查找字符串索引,结束查找字符串索引),查找在规定范围内第一次出现子字符串的索引;查找不到会报错\n",
    "text = \"Hello, world! Welcome to the world of Python.\"\n",
    "substring = \"world\"\n",
    "# Find the first occurrence of 'world'\n",
    "print(text.index(substring))  # Output: 7\n",
    "\n",
    "# Find 'world' starting from index 10\n",
    "print(text.index(substring, 10))  # Output: 22\n",
    "\n",
    "# Attempt to find a substring that does not exist (will raise an error)\n",
    "try:\n",
    "    print(text.index(\"Java\"))\n",
    "except ValueError as e:\n",
    "    print(e)  # Output: substring not found"
   ]
  },
  {
   "cell_type": "code",
   "execution_count": null,
   "metadata": {},
   "outputs": [],
   "source": [
    "# 如何将两个list的元素组合形成两两元组后放入list中?\n",
    "# 采用zip函数进行包装,将list中相同位置元素进行匹配形成元元组。\n",
    "a = [1,2,3]\n",
    "b = [4,5,6]\n",
    "print(list(zip(a,b)))\n",
    "# 找最大值\n",
    "print(a.index(max(a)))"
   ]
  },
  {
   "cell_type": "code",
   "execution_count": null,
   "metadata": {},
   "outputs": [],
   "source": [
    "dict1={'a':1, 'b':2, 'c' :3}\n",
    "print(max(dict1.values()))\n",
    "print(max(zip(dict1.values(),dict1.keys())))\n"
   ]
  },
  {
   "cell_type": "code",
   "execution_count": null,
   "metadata": {},
   "outputs": [],
   "source": [
    "str = \"Line1-abcdef \\nLine2-abc \\nLine4-abcd\"\n",
    "\n",
    "print(str.split())       # Split by whitespace, including \\n\n",
    "print(str.split(' ', 1)) # Split by space, splitting into two parts\n"
   ]
  },
  {
   "cell_type": "code",
   "execution_count": null,
   "metadata": {},
   "outputs": [],
   "source": [
    "# pd.cut(分箱数据,n,lables)--给定分箱数字,n可以换做bins,给定每个箱子上下限;\n",
    "# Sample data: ages of individuals\n",
    "ages = [22, 25, 29, 35, 45, 55, 60, 70, 80, 85]\n",
    "# Define the bins: [0-18, 19-35, 36-55, 56-100]\n",
    "bins = [0, 18, 35, 55, 100]\n",
    "# Create labels for each bin\n",
    "labels = ['Child', 'Youth', 'Adult', 'Senior']\n",
    "# Use pd.cut to categorize the ages\n",
    "age_categories = pd.cut(ages, bins=bins, labels=labels)\n",
    "# Display the results\n",
    "print(age_categories)\n"
   ]
  },
  {
   "cell_type": "code",
   "execution_count": null,
   "metadata": {},
   "outputs": [],
   "source": [
    "#pd.qcut(分箱数据,n,labels)--n可以换做bins内为0-1小放,代表分位数。\n",
    "# Sample data: incomes of individuals\n",
    "incomes = [30000, 45000, 50000, 60000, 75000, 80000, 120000, 130000, 200000, 250000]\n",
    "# Use pd.qcut to divide the data into 4 equal-sized quartiles\n",
    "income_quartiles = pd.qcut(incomes, 4, labels=['Q1', 'Q2', 'Q3', 'Q4'])\n",
    "# Display the results\n",
    "print(income_quartiles)"
   ]
  },
  {
   "cell_type": "code",
   "execution_count": 19,
   "metadata": {},
   "outputs": [
    {
     "name": "stdout",
     "output_type": "stream",
     "text": [
      "Document 1:\n",
      "  This: 0.1386\n",
      "  first: 0.1386\n",
      "  document.: 0.1386\n",
      "  is: 0.0575\n",
      "  the: 0.0000\n",
      "\n",
      "Document 2:\n",
      "  document: 0.2310\n",
      "  second: 0.2310\n",
      "  This: 0.1155\n",
      "  document.: 0.1155\n",
      "  is: 0.0479\n",
      "  the: 0.0000\n",
      "\n",
      "Document 3:\n",
      "  And: 0.2310\n",
      "  third: 0.2310\n",
      "  one.: 0.2310\n",
      "  this: 0.1155\n",
      "  is: 0.0479\n",
      "  the: 0.0000\n",
      "\n",
      "Document 4:\n",
      "  Is: 0.2773\n",
      "  document?: 0.2773\n",
      "  this: 0.1386\n",
      "  first: 0.1386\n",
      "  the: 0.0000\n",
      "\n"
     ]
    }
   ],
   "source": [
    "import math\n",
    "from collections import Counter\n",
    "\n",
    "def compute_tf(text):\n",
    "    tf_dict = Counter(text.split())\n",
    "    for word in tf_dict:\n",
    "        tf_dict[word] = tf_dict[word] / len(text.split())\n",
    "    return tf_dict\n",
    "\n",
    "def compute_idf(corpus):\n",
    "    n_documents = len(corpus)\n",
    "    idf_dict = Counter()\n",
    "    for text in corpus:\n",
    "        idf_dict.update(set(text.split()))\n",
    "    for word in idf_dict:\n",
    "        idf_dict[word] = math.log(n_documents / idf_dict[word])\n",
    "    return idf_dict\n",
    "\n",
    "def compute_tfidf(corpus):\n",
    "    tfidf_dict = {}\n",
    "    idf = compute_idf(corpus)\n",
    "    for i, text in enumerate(corpus):\n",
    "        tf = compute_tf(text)\n",
    "        tfidf_dict[i] = {}\n",
    "        for word in tf:\n",
    "            tfidf_dict[i][word] = tf[word] * idf[word]\n",
    "    return tfidf_dict\n",
    "\n",
    "# Example usage\n",
    "corpus = [\n",
    "    \"This is the first document.\",\n",
    "    \"This document is the second document.\",\n",
    "    \"And this is the third one.\",\n",
    "    \"Is this the first document?\",\n",
    "]\n",
    "\n",
    "tfidf_scores = compute_tfidf(corpus)\n",
    "\n",
    "# Print TF-IDF scores\n",
    "for doc_id, scores in tfidf_scores.items():\n",
    "    print(f\"Document {doc_id + 1}:\")\n",
    "    for term, score in sorted(scores.items(), key=lambda x: x[1], reverse=True):\n",
    "        print(f\"  {term}: {score:.4f}\")\n",
    "    print()"
   ]
  },
  {
   "cell_type": "code",
   "execution_count": 2,
   "metadata": {},
   "outputs": [
    {
     "name": "stdout",
     "output_type": "stream",
     "text": [
      "Collecting ucimlrepo\n",
      "  Downloading ucimlrepo-0.0.7-py3-none-any.whl.metadata (5.5 kB)\n",
      "Requirement already satisfied: pandas>=1.0.0 in /Library/Frameworks/Python.framework/Versions/3.7/lib/python3.7/site-packages (from ucimlrepo) (1.3.5)\n",
      "Requirement already satisfied: certifi>=2020.12.5 in /Library/Frameworks/Python.framework/Versions/3.7/lib/python3.7/site-packages (from ucimlrepo) (2024.7.4)\n",
      "Requirement already satisfied: python-dateutil>=2.7.3 in /Library/Frameworks/Python.framework/Versions/3.7/lib/python3.7/site-packages (from pandas>=1.0.0->ucimlrepo) (2.8.2)\n",
      "Requirement already satisfied: pytz>=2017.3 in /Library/Frameworks/Python.framework/Versions/3.7/lib/python3.7/site-packages (from pandas>=1.0.0->ucimlrepo) (2023.3)\n",
      "Requirement already satisfied: numpy>=1.17.3 in /Library/Frameworks/Python.framework/Versions/3.7/lib/python3.7/site-packages (from pandas>=1.0.0->ucimlrepo) (1.21.2)\n",
      "Requirement already satisfied: six>=1.5 in /Library/Frameworks/Python.framework/Versions/3.7/lib/python3.7/site-packages (from python-dateutil>=2.7.3->pandas>=1.0.0->ucimlrepo) (1.16.0)\n",
      "Downloading ucimlrepo-0.0.7-py3-none-any.whl (8.0 kB)\n",
      "Installing collected packages: ucimlrepo\n",
      "Successfully installed ucimlrepo-0.0.7\n",
      "Note: you may need to restart the kernel to use updated packages.\n"
     ]
    }
   ],
   "source": [
    "pip install ucimlrepo"
   ]
  },
  {
   "cell_type": "code",
   "execution_count": 3,
   "metadata": {},
   "outputs": [
    {
     "name": "stdout",
     "output_type": "stream",
     "text": [
      "{'uci_id': 144, 'name': 'Statlog (German Credit Data)', 'repository_url': 'https://archive.ics.uci.edu/dataset/144/statlog+german+credit+data', 'data_url': 'https://archive.ics.uci.edu/static/public/144/data.csv', 'abstract': 'This dataset classifies people described by a set of attributes as good or bad credit risks. Comes in two formats (one all numeric). Also comes with a cost matrix', 'area': 'Social Science', 'tasks': ['Classification'], 'characteristics': ['Multivariate'], 'num_instances': 1000, 'num_features': 20, 'feature_types': ['Categorical', 'Integer'], 'demographics': ['Other', 'Marital Status', 'Age', 'Occupation'], 'target_col': ['class'], 'index_col': None, 'has_missing_values': 'no', 'missing_values_symbol': None, 'year_of_dataset_creation': 1994, 'last_updated': 'Thu Aug 10 2023', 'dataset_doi': '10.24432/C5NC77', 'creators': ['Hans Hofmann'], 'intro_paper': None, 'additional_info': {'summary': 'Two datasets are provided.  the original dataset, in the form provided by Prof. Hofmann, contains categorical/symbolic attributes and is in the file \"german.data\".   \\r\\n \\r\\nFor algorithms that need numerical attributes, Strathclyde University produced the file \"german.data-numeric\".  This file has been edited and several indicator variables added to make it suitable for algorithms which cannot cope with categorical variables.   Several attributes that are ordered categorical (such as attribute 17) have been coded as integer.    This was the form used by StatLog.\\r\\n\\r\\nThis dataset requires use of a cost matrix (see below)\\r\\n\\r\\n ..... 1        2\\r\\n----------------------------\\r\\n  1   0        1\\r\\n-----------------------\\r\\n  2   5        0\\r\\n\\r\\n(1 = Good,  2 = Bad)\\r\\n\\r\\nThe rows represent the actual classification and the columns the predicted classification.\\r\\n\\r\\nIt is worse to class a customer as good when they are bad (5), than it is to class a customer as bad when they are good (1).\\r\\n', 'purpose': None, 'funded_by': None, 'instances_represent': None, 'recommended_data_splits': None, 'sensitive_data': None, 'preprocessing_description': None, 'variable_info': 'Attribute 1:  (qualitative)      \\r\\n Status of existing checking account\\r\\n             A11 :      ... <    0 DM\\r\\n\\t       A12 : 0 <= ... <  200 DM\\r\\n\\t       A13 :      ... >= 200 DM / salary assignments for at least 1 year\\r\\n               A14 : no checking account\\r\\n\\r\\nAttribute 2:  (numerical)\\r\\n\\t      Duration in month\\r\\n\\r\\nAttribute 3:  (qualitative)\\r\\n\\t      Credit history\\r\\n\\t      A30 : no credits taken/ all credits paid back duly\\r\\n              A31 : all credits at this bank paid back duly\\r\\n\\t      A32 : existing credits paid back duly till now\\r\\n              A33 : delay in paying off in the past\\r\\n\\t      A34 : critical account/  other credits existing (not at this bank)\\r\\n\\r\\nAttribute 4:  (qualitative)\\r\\n\\t      Purpose\\r\\n\\t      A40 : car (new)\\r\\n\\t      A41 : car (used)\\r\\n\\t      A42 : furniture/equipment\\r\\n\\t      A43 : radio/television\\r\\n\\t      A44 : domestic appliances\\r\\n\\t      A45 : repairs\\r\\n\\t      A46 : education\\r\\n\\t      A47 : (vacation - does not exist?)\\r\\n\\t      A48 : retraining\\r\\n\\t      A49 : business\\r\\n\\t      A410 : others\\r\\n\\r\\nAttribute 5:  (numerical)\\r\\n\\t      Credit amount\\r\\n\\r\\nAttibute 6:  (qualitative)\\r\\n\\t      Savings account/bonds\\r\\n\\t      A61 :          ... <  100 DM\\r\\n\\t      A62 :   100 <= ... <  500 DM\\r\\n\\t      A63 :   500 <= ... < 1000 DM\\r\\n\\t      A64 :          .. >= 1000 DM\\r\\n              A65 :   unknown/ no savings account\\r\\n\\r\\nAttribute 7:  (qualitative)\\r\\n\\t      Present employment since\\r\\n\\t      A71 : unemployed\\r\\n\\t      A72 :       ... < 1 year\\r\\n\\t      A73 : 1  <= ... < 4 years  \\r\\n\\t      A74 : 4  <= ... < 7 years\\r\\n\\t      A75 :       .. >= 7 years\\r\\n\\r\\nAttribute 8:  (numerical)\\r\\n\\t      Installment rate in percentage of disposable income\\r\\n\\r\\nAttribute 9:  (qualitative)\\r\\n\\t      Personal status and sex\\r\\n\\t      A91 : male   : divorced/separated\\r\\n\\t      A92 : female : divorced/separated/married\\r\\n              A93 : male   : single\\r\\n\\t      A94 : male   : married/widowed\\r\\n\\t      A95 : female : single\\r\\n\\r\\nAttribute 10: (qualitative)\\r\\n\\t      Other debtors / guarantors\\r\\n\\t      A101 : none\\r\\n\\t      A102 : co-applicant\\r\\n\\t      A103 : guarantor\\r\\n\\r\\nAttribute 11: (numerical)\\r\\n\\t      Present residence since\\r\\n\\r\\nAttribute 12: (qualitative)\\r\\n\\t      Property\\r\\n\\t      A121 : real estate\\r\\n\\t      A122 : if not A121 : building society savings agreement/ life insurance\\r\\n              A123 : if not A121/A122 : car or other, not in attribute 6\\r\\n\\t      A124 : unknown / no property\\r\\n\\r\\nAttribute 13: (numerical)\\r\\n\\t      Age in years\\r\\n\\r\\nAttribute 14: (qualitative)\\r\\n\\t      Other installment plans \\r\\n\\t      A141 : bank\\r\\n\\t      A142 : stores\\r\\n\\t      A143 : none\\r\\n\\r\\nAttribute 15: (qualitative)\\r\\n\\t      Housing\\r\\n\\t      A151 : rent\\r\\n\\t      A152 : own\\r\\n\\t      A153 : for free\\r\\n\\r\\nAttribute 16: (numerical)\\r\\n              Number of existing credits at this bank\\r\\n\\r\\nAttribute 17: (qualitative)\\r\\n\\t      Job\\r\\n\\t      A171 : unemployed/ unskilled  - non-resident\\r\\n\\t      A172 : unskilled - resident\\r\\n\\t      A173 : skilled employee / official\\r\\n\\t      A174 : management/ self-employed/\\r\\n\\t\\t     highly qualified employee/ officer\\r\\n\\r\\nAttribute 18: (numerical)\\r\\n\\t      Number of people being liable to provide maintenance for\\r\\n\\r\\nAttribute 19: (qualitative)\\r\\n\\t      Telephone\\r\\n\\t      A191 : none\\r\\n\\t      A192 : yes, registered under the customers name\\r\\n\\r\\nAttribute 20: (qualitative)\\r\\n\\t      foreign worker\\r\\n\\t      A201 : yes\\r\\n\\t      A202 : no\\r\\n', 'citation': None}}\n",
      "           name     role         type     demographic  \\\n",
      "0    Attribute1  Feature  Categorical            None   \n",
      "1    Attribute2  Feature      Integer            None   \n",
      "2    Attribute3  Feature  Categorical            None   \n",
      "3    Attribute4  Feature  Categorical            None   \n",
      "4    Attribute5  Feature      Integer            None   \n",
      "5    Attribute6  Feature  Categorical            None   \n",
      "6    Attribute7  Feature  Categorical           Other   \n",
      "7    Attribute8  Feature      Integer            None   \n",
      "8    Attribute9  Feature  Categorical  Marital Status   \n",
      "9   Attribute10  Feature  Categorical            None   \n",
      "10  Attribute11  Feature      Integer            None   \n",
      "11  Attribute12  Feature  Categorical            None   \n",
      "12  Attribute13  Feature      Integer             Age   \n",
      "13  Attribute14  Feature  Categorical            None   \n",
      "14  Attribute15  Feature  Categorical           Other   \n",
      "15  Attribute16  Feature      Integer            None   \n",
      "16  Attribute17  Feature  Categorical      Occupation   \n",
      "17  Attribute18  Feature      Integer            None   \n",
      "18  Attribute19  Feature       Binary            None   \n",
      "19  Attribute20  Feature       Binary           Other   \n",
      "20        class   Target       Binary            None   \n",
      "\n",
      "                                          description   units missing_values  \n",
      "0                 Status of existing checking account    None             no  \n",
      "1                                            Duration  months             no  \n",
      "2                                      Credit history    None             no  \n",
      "3                                             Purpose    None             no  \n",
      "4                                       Credit amount    None             no  \n",
      "5                               Savings account/bonds    None             no  \n",
      "6                            Present employment since    None             no  \n",
      "7   Installment rate in percentage of disposable i...    None             no  \n",
      "8                             Personal status and sex    None             no  \n",
      "9                          Other debtors / guarantors    None             no  \n",
      "10                            Present residence since    None             no  \n",
      "11                                           Property    None             no  \n",
      "12                                                Age   years             no  \n",
      "13                            Other installment plans    None             no  \n",
      "14                                            Housing    None             no  \n",
      "15            Number of existing credits at this bank    None             no  \n",
      "16                                                Job    None             no  \n",
      "17  Number of people being liable to provide maint...    None             no  \n",
      "18                                          Telephone    None             no  \n",
      "19                                     foreign worker    None             no  \n",
      "20                                  1 = Good, 2 = Bad    None             no  \n"
     ]
    }
   ],
   "source": [
    "from ucimlrepo import fetch_ucirepo \n",
    "  \n",
    "# fetch dataset \n",
    "statlog_german_credit_data = fetch_ucirepo(id=144) \n",
    "  \n",
    "# data (as pandas dataframes) \n",
    "X = statlog_german_credit_data.data.features \n",
    "y = statlog_german_credit_data.data.targets \n",
    "  \n",
    "# metadata \n",
    "print(statlog_german_credit_data.metadata) \n",
    "  \n",
    "# variable information \n",
    "print(statlog_german_credit_data.variables) \n"
   ]
  },
  {
   "cell_type": "code",
   "execution_count": null,
   "metadata": {},
   "outputs": [],
   "source": [
    "X.to_csv('german_credit_features.csv', index=False)\n",
    "y.to_csv('german_credit_targets.csv', index=False)"
   ]
  },
  {
   "cell_type": "code",
   "execution_count": null,
   "metadata": {},
   "outputs": [],
   "source": [
    "`.loc[]` 和 `.iloc[]` 是用于 Pandas 数据框中选择数据的两种索引方法，虽然它们看似相似，但有着重要的区别。\n",
    "\n",
    "### 1. `.loc[]`：基于标签（Label-based indexing）\n",
    "- `.loc[]` 使用行或列的**标签**（即数据框中的行或列名）来索引和选择数据。\n",
    "- **行名** 或 **列名** 可以是字符串、数值或其他类型，具体取决于数据框的定义。\n",
    "- 支持布尔条件、列表或切片操作。\n",
    "  \n",
    "  **例子：**\n",
    "  ```python\n",
    "  # 基于行标签和列标签\n",
    "  df.loc['row_label', 'col_label']\n",
    "\n",
    "  # 基于布尔条件选择行\n",
    "  df.loc[df['column_name'] > 10]\n",
    "  ```\n",
    "\n",
    "  在这个例子中，`'row_label'` 和 `'col_label'` 都是数据框的行或列的名称。\n",
    "\n",
    "### 2. `.iloc[]`：基于位置（Position-based indexing）\n",
    "- `.iloc[]` 是通过行和列的**整数位置**进行索引，即它仅使用行或列的整数索引位置（类似于列表的索引）。\n",
    "- 仅接受整数值、列表或切片来选择行或列。\n",
    "  \n",
    "  **例子：**\n",
    "  ```python\n",
    "  # 基于行位置和列位置\n",
    "  df.iloc[0, 1]  # 选择第1行和第2列的数据（从0开始）\n",
    "  \n",
    "  # 选择第0到第2行，第1到第3列\n",
    "  df.iloc[0:2, 1:3]\n",
    "  ```\n",
    "\n",
    "### 主要区别总结：\n",
    "- `.loc[]` 是**基于标签**的选择，允许使用行列名称或布尔条件。\n",
    "- `.iloc[]` 是**基于位置**的选择，只能使用整数位置。\n",
    "\n",
    "因此，如果你知道数据框的标签（列名、行名等），你可以使用 `.loc[]`；如果你想通过具体的位置索引（如第几行第几列）来选取数据，那么 `.iloc[]` 是更合适的选择。"
   ]
  }
 ],
 "metadata": {
  "kernelspec": {
   "display_name": "Python 3",
   "language": "python",
   "name": "python3"
  },
  "language_info": {
   "codemirror_mode": {
    "name": "ipython",
    "version": 3
   },
   "file_extension": ".py",
   "mimetype": "text/x-python",
   "name": "python",
   "nbconvert_exporter": "python",
   "pygments_lexer": "ipython3",
   "version": "3.7.4"
  }
 },
 "nbformat": 4,
 "nbformat_minor": 2
}
