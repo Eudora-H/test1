{
 "cells": [
  {
   "cell_type": "markdown",
   "metadata": {},
   "source": [
    "## 7. 使用Python包(Package) - NumPy\n",
    "\n",
    "作为一个开源软件，Python有着非常丰富的第三方工具包即packages, 帮助使用者完成各种任务。这些包在安装后，都可以直接拿来使用，非常方便。\n",
    "\n",
    "我们首先学习数据分析中必不可少的一个包 - **NumPy**\n",
    "\n",
    "NumPy(Numerical Python extensions) 是一个第三方的 Python 包，用于科学计算。这个库的前身是 1995 年开始开发的一个用于数组运算的库，经过了长时间的发展之后，基本上成为大部分 Python科学计算如Pandas，Scikit-learn等的基础包。\n",
    "\n",
    "\n",
    "Numpy中的基础数据结构为**数组**"
   ]
  },
  {
   "cell_type": "markdown",
   "metadata": {},
   "source": [
    "安装完毕后，在使用NumPy之前，必需先导入numpy包：\n",
    "- 一般用np来作为numpy的简写:"
   ]
  },
  {
   "cell_type": "code",
   "execution_count": 4,
   "metadata": {},
   "outputs": [],
   "source": [
    "import numpy as np"
   ]
  },
  {
   "cell_type": "markdown",
   "metadata": {},
   "source": [
    "## 7.1 NumPy基本数据结构 - array:\n",
    "\n",
    "- ndarray，别名array, 也就是数组，是NumPy中最基础的数据结构.\n",
    "- 最关键的属性是维度和元素类型\n",
    "- 在 NumPy 中，可以非常方便地创建各种不同类型的多维数组，并且执行一些基本操作"
   ]
  },
  {
   "cell_type": "markdown",
   "metadata": {},
   "source": [
    "使用np.array()基于list或者tuple创建数组："
   ]
  },
  {
   "cell_type": "code",
   "execution_count": 65,
   "metadata": {},
   "outputs": [
    {
     "name": "stdout",
     "output_type": "stream",
     "text": [
      "[1 2 3 4 5 6]\n"
     ]
    }
   ],
   "source": [
    "#基于list\n",
    "array1 = np.array([1,2,3,4,5,6])\n",
    "print(array1)"
   ]
  },
  {
   "cell_type": "code",
   "execution_count": 66,
   "metadata": {},
   "outputs": [
    {
     "data": {
      "text/plain": [
       "numpy.ndarray"
      ]
     },
     "execution_count": 66,
     "metadata": {},
     "output_type": "execute_result"
    }
   ],
   "source": [
    "type(array1)"
   ]
  },
  {
   "cell_type": "code",
   "execution_count": 3,
   "metadata": {},
   "outputs": [
    {
     "name": "stdout",
     "output_type": "stream",
     "text": [
      "[1 2 3 4 5 6]\n"
     ]
    },
    {
     "data": {
      "text/plain": [
       "numpy.ndarray"
      ]
     },
     "execution_count": 3,
     "metadata": {},
     "output_type": "execute_result"
    }
   ],
   "source": [
    "#基于tuple\n",
    "array2 = np.array((1,2,3,4,5,6))\n",
    "print(array2)\n",
    "type(array2)"
   ]
  },
  {
   "cell_type": "markdown",
   "metadata": {},
   "source": [
    "    - 创建二维数组："
   ]
  },
  {
   "cell_type": "code",
   "execution_count": 69,
   "metadata": {},
   "outputs": [
    {
     "name": "stdout",
     "output_type": "stream",
     "text": [
      "[[1 2 3]\n",
      " [4 5 6]]\n"
     ]
    }
   ],
   "source": [
    "array3 = np.array([[1,2,3], [4,5,6]])\n",
    "print(array3)"
   ]
  },
  {
   "cell_type": "markdown",
   "metadata": {},
   "source": [
    "- 一维数组用print输出的时候为 [1 2 3 4 5 6]，跟python的列表是有些差异的，没有逗号分隔\n",
    "- 在创建二维数组时，在每个子list外面还有一个[ ]，形式为[[list1], [list2]]"
   ]
  },
  {
   "cell_type": "code",
   "execution_count": null,
   "metadata": {},
   "outputs": [],
   "source": [
    "使用函数创建数组:"
   ]
  },
  {
   "cell_type": "code",
   "execution_count": 7,
   "metadata": {},
   "outputs": [
    {
     "name": "stdout",
     "output_type": "stream",
     "text": [
      "[1 2 3 4 5 6 7 8 9]\n"
     ]
    }
   ],
   "source": [
    "range_array = np.arange(1,10)  # 等间距分布的数组\n",
    "print(range_array)"
   ]
  },
  {
   "cell_type": "code",
   "execution_count": 8,
   "metadata": {},
   "outputs": [
    {
     "name": "stdout",
     "output_type": "stream",
     "text": [
      "[0. 0. 0. 0. 0.]\n"
     ]
    }
   ],
   "source": [
    "zero_array = np.zeros(5)  # 元素全为0的数组\n",
    "print(zero_array)"
   ]
  },
  {
   "cell_type": "code",
   "execution_count": 4,
   "metadata": {},
   "outputs": [
    {
     "name": "stdout",
     "output_type": "stream",
     "text": [
      "[[0.]\n",
      " [0.]\n",
      " [0.]\n",
      " [0.]\n",
      " [0.]]\n"
     ]
    }
   ],
   "source": [
    "zero_array = np.zeros((5,1))  # 元素全为0的数组\n",
    "print(zero_array)\n"
   ]
  },
  {
   "cell_type": "code",
   "execution_count": 5,
   "metadata": {},
   "outputs": [
    {
     "name": "stdout",
     "output_type": "stream",
     "text": [
      "[1. 1. 1. 1. 1.]\n"
     ]
    }
   ],
   "source": [
    "one_array = np.ones(5)  # 元素全为0的数组\n",
    "print(one_array)"
   ]
  },
  {
   "cell_type": "code",
   "execution_count": 6,
   "metadata": {},
   "outputs": [
    {
     "name": "stdout",
     "output_type": "stream",
     "text": [
      "[[0. 0. 0. 0. 0.]\n",
      " [0. 0. 0. 0. 0.]\n",
      " [0. 0. 0. 0. 0.]\n",
      " [0. 0. 0. 0. 0.]\n",
      " [0. 0. 0. 0. 0.]]\n"
     ]
    }
   ],
   "source": [
    "twod_array_zeros = np.zeros((5, 5))\n",
    "print(twod_array_zeros)"
   ]
  },
  {
   "cell_type": "markdown",
   "metadata": {},
   "source": [
    "数组的常见**属性**：#什么是属性?\n",
    "\n",
    "- ndarray.ndim：数组的维度数\n",
    "- ndarray.shape：数组每个维度的大小\n",
    "    - 数组是行主导原则(row-major order), 因此.shape先返回行数，然后是列数\n",
    "- ndarray.size：数组中元素的总个数\n",
    "- ndarray.dtype: 数组中元素的类型\n",
    "- ndarray.T： 转置属性 - 行变列，列变行"
   ]
  },
  {
   "cell_type": "code",
   "execution_count": 13,
   "metadata": {},
   "outputs": [
    {
     "name": "stdout",
     "output_type": "stream",
     "text": [
      "[[1 2 3]\n",
      " [4 5 6]]\n"
     ]
    }
   ],
   "source": [
    "#\n",
    "array3 = np.array([[1,2,3], [4,5,6]])\n",
    "print(array3)\n",
    "# array3 = np.array([[1,0,0], [0,0,0]])"
   ]
  },
  {
   "cell_type": "code",
   "execution_count": 14,
   "metadata": {},
   "outputs": [
    {
     "name": "stdout",
     "output_type": "stream",
     "text": [
      "2\n",
      "(2, 3)\n",
      "6\n",
      "int64\n"
     ]
    }
   ],
   "source": [
    "print(array3.ndim)\n",
    "print(array3.shape)\n",
    "print(array3.size)\n",
    "print(array3.dtype)"
   ]
  },
  {
   "cell_type": "code",
   "execution_count": 15,
   "metadata": {},
   "outputs": [
    {
     "data": {
      "text/plain": [
       "array([[1, 4],\n",
       "       [2, 5],\n",
       "       [3, 6]])"
      ]
     },
     "execution_count": 15,
     "metadata": {},
     "output_type": "execute_result"
    }
   ],
   "source": [
    "array3.T"
   ]
  },
  {
   "cell_type": "markdown",
   "metadata": {},
   "source": [
    "创建数组时可以指定数据类型:"
   ]
  },
  {
   "cell_type": "code",
   "execution_count": 16,
   "metadata": {},
   "outputs": [
    {
     "name": "stdout",
     "output_type": "stream",
     "text": [
      "int64\n"
     ]
    }
   ],
   "source": [
    "c = np.array([1, 2, 3])\n",
    "print(c.dtype)           "
   ]
  },
  {
   "cell_type": "code",
   "execution_count": 17,
   "metadata": {},
   "outputs": [
    {
     "name": "stdout",
     "output_type": "stream",
     "text": [
      "float64\n"
     ]
    },
    {
     "data": {
      "text/plain": [
       "array([1., 2., 3.])"
      ]
     },
     "execution_count": 17,
     "metadata": {},
     "output_type": "execute_result"
    }
   ],
   "source": [
    "d = np.array([1, 2, 3], dtype=float)\n",
    "print(d.dtype)\n",
    "d"
   ]
  },
  {
   "cell_type": "markdown",
   "metadata": {},
   "source": [
    "也可以使用ndarray.astype()方法改变格式:"
   ]
  },
  {
   "cell_type": "code",
   "execution_count": 18,
   "metadata": {},
   "outputs": [
    {
     "name": "stdout",
     "output_type": "stream",
     "text": [
      "float64\n"
     ]
    }
   ],
   "source": [
    "#\n",
    "e = np.array([1.,2.,3.])\n",
    "print(e.dtype)   "
   ]
  },
  {
   "cell_type": "code",
   "execution_count": 19,
   "metadata": {},
   "outputs": [
    {
     "data": {
      "text/plain": [
       "array([1, 2, 3])"
      ]
     },
     "execution_count": 19,
     "metadata": {},
     "output_type": "execute_result"
    }
   ],
   "source": [
    "#ndarray.astype()会返回一个拷贝，不会改变原来的array\n",
    "e=e.astype('int')\n",
    "e"
   ]
  },
  {
   "cell_type": "markdown",
   "metadata": {},
   "source": [
    "改变数组的形状:\n",
    "- numpy.reshape()：改变数组的形状，但是**不会改变所作用的数组**\n",
    "- numpy.resize(): 改变所作用的数组的形状，也即**同时改变被作用的数组**"
   ]
  },
  {
   "cell_type": "code",
   "execution_count": 17,
   "metadata": {},
   "outputs": [
    {
     "name": "stdout",
     "output_type": "stream",
     "text": [
      "[ 0  1  2  3  4  5  6  7  8  9 10 11 12 13 14 15 16 17 18 19 20 21 22 23\n",
      " 24]\n"
     ]
    }
   ],
   "source": [
    "five_x_five = np.arange(25)\n",
    "print(five_x_five)"
   ]
  },
  {
   "cell_type": "code",
   "execution_count": 24,
   "metadata": {},
   "outputs": [
    {
     "data": {
      "text/plain": [
       "array([[ 0,  1,  2,  3,  4],\n",
       "       [ 5,  6,  7,  8,  9],\n",
       "       [10, 11, 12, 13, 14],\n",
       "       [15, 16, 17, 18, 19],\n",
       "       [20, 21, 22, 23, 24]])"
      ]
     },
     "execution_count": 24,
     "metadata": {},
     "output_type": "execute_result"
    }
   ],
   "source": [
    "five_x_five.reshape(5,5)"
   ]
  },
  {
   "cell_type": "code",
   "execution_count": 25,
   "metadata": {},
   "outputs": [
    {
     "name": "stdout",
     "output_type": "stream",
     "text": [
      "[ 0  1  2  3  4  5  6  7  8  9 10 11 12 13 14 15 16 17 18 19 20 21 22 23\n",
      " 24]\n"
     ]
    }
   ],
   "source": [
    "print(five_x_five)"
   ]
  },
  {
   "cell_type": "code",
   "execution_count": 22,
   "metadata": {},
   "outputs": [
    {
     "name": "stdout",
     "output_type": "stream",
     "text": [
      "[0 1 2 3 4 5 6 7 8 9]\n"
     ]
    }
   ],
   "source": [
    "five_x_two = np.arange(10)\n",
    "print(five_x_two)"
   ]
  },
  {
   "cell_type": "code",
   "execution_count": 23,
   "metadata": {},
   "outputs": [],
   "source": [
    "five_x_two.resize(5,2)"
   ]
  },
  {
   "cell_type": "code",
   "execution_count": 61,
   "metadata": {},
   "outputs": [
    {
     "name": "stdout",
     "output_type": "stream",
     "text": [
      "[[0 1]\n",
      " [2 3]\n",
      " [4 5]\n",
      " [6 7]\n",
      " [8 9]]\n"
     ]
    }
   ],
   "source": [
    "print(five_x_two)"
   ]
  },
  {
   "cell_type": "markdown",
   "metadata": {},
   "source": [
    "NumPy数组的优势\n",
    "\n",
    "- NumPy数组通常是由相同种类的元素组成的，即数组中的数据项的类型一致，这样可以方便分析\n",
    "\n",
    "- 可以比列表更方便的管理多维数据\n",
    "\n",
    "- 运算速度快"
   ]
  },
  {
   "cell_type": "markdown",
   "metadata": {},
   "source": [
    "## 7.2 NumPy的索引和切片\n",
    "\n",
    "数组的索引和切片方式和其他可迭代对象类似\n",
    "    - 方括号[ ]里放**单个数字**进行索引，索引的第一个位置从0开始\n",
    "    - 方括号里放[开始位置:结束位置:步长]进行切片\n",
    "    - 切片范围遵从半开放原则\n",
    "    - [:]代表行列全选"
   ]
  },
  {
   "cell_type": "markdown",
   "metadata": {},
   "source": [
    "一维数组:"
   ]
  },
  {
   "cell_type": "code",
   "execution_count": 27,
   "metadata": {},
   "outputs": [
    {
     "name": "stdout",
     "output_type": "stream",
     "text": [
      "[ 1  2  3  4  5  6  7  8  9 10 11 12 13 14 15 16 17 18 19]\n"
     ]
    }
   ],
   "source": [
    "test_array = np.arange(1,20)\n",
    "print(test_array)"
   ]
  },
  {
   "cell_type": "markdown",
   "metadata": {},
   "source": [
    "   - 一维数组索引："
   ]
  },
  {
   "cell_type": "code",
   "execution_count": 28,
   "metadata": {},
   "outputs": [
    {
     "name": "stdout",
     "output_type": "stream",
     "text": [
      "6\n"
     ]
    }
   ],
   "source": [
    "print(test_array[5]) "
   ]
  },
  {
   "cell_type": "code",
   "execution_count": 29,
   "metadata": {},
   "outputs": [
    {
     "name": "stdout",
     "output_type": "stream",
     "text": [
      "19\n"
     ]
    }
   ],
   "source": [
    "print(test_array[-1]) "
   ]
  },
  {
   "cell_type": "markdown",
   "metadata": {},
   "source": [
    "   - 一维数组切片："
   ]
  },
  {
   "cell_type": "code",
   "execution_count": 30,
   "metadata": {},
   "outputs": [
    {
     "name": "stdout",
     "output_type": "stream",
     "text": [
      "[4 5 6]\n"
     ]
    }
   ],
   "source": [
    "print(test_array[3:6]) "
   ]
  },
  {
   "cell_type": "code",
   "execution_count": 31,
   "metadata": {},
   "outputs": [
    {
     "name": "stdout",
     "output_type": "stream",
     "text": [
      "[ 4  6  8 10 12 14 16 18]\n"
     ]
    }
   ],
   "source": [
    "print(test_array[3::2])"
   ]
  },
  {
   "cell_type": "code",
   "execution_count": 32,
   "metadata": {},
   "outputs": [
    {
     "name": "stdout",
     "output_type": "stream",
     "text": [
      "[ 1  2  3  4  5  6  7  8  9 10 11 12 13 14 15 16 17 18 19]\n"
     ]
    }
   ],
   "source": [
    "print(test_array[:]) "
   ]
  },
  {
   "cell_type": "markdown",
   "metadata": {},
   "source": [
    "二维数组:\n",
    "对于多维数组，必须为每个维度分别做索引和切片"
   ]
  },
  {
   "cell_type": "code",
   "execution_count": 5,
   "metadata": {},
   "outputs": [
    {
     "data": {
      "text/plain": [
       "array([[1, 2, 3],\n",
       "       [4, 5, 6]])"
      ]
     },
     "execution_count": 5,
     "metadata": {},
     "output_type": "execute_result"
    }
   ],
   "source": [
    "list_of_lists = [ [1,2,3], [4, 5, 6] ]\n",
    "array_of_lists = np.array(list_of_lists)\n",
    "array_of_lists"
   ]
  },
  {
   "cell_type": "code",
   "execution_count": null,
   "metadata": {},
   "outputs": [],
   "source": [
    "   - 二维数组索引："
   ]
  },
  {
   "cell_type": "code",
   "execution_count": 91,
   "metadata": {},
   "outputs": [
    {
     "name": "stdout",
     "output_type": "stream",
     "text": [
      "6\n"
     ]
    }
   ],
   "source": [
    "print(array_of_lists[1][2])"
   ]
  },
  {
   "cell_type": "code",
   "execution_count": 119,
   "metadata": {},
   "outputs": [
    {
     "name": "stdout",
     "output_type": "stream",
     "text": [
      "2\n"
     ]
    }
   ],
   "source": [
    "print(array_of_lists[0][1])"
   ]
  },
  {
   "cell_type": "code",
   "execution_count": 9,
   "metadata": {},
   "outputs": [
    {
     "name": "stdout",
     "output_type": "stream",
     "text": [
      "[1 2 3]\n"
     ]
    }
   ],
   "source": [
    "print(array_of_lists[:][0])\n",
    "#注意！！！ 此处[:]并不代表行索引, 所以这里不是先选所有行，再选第一列！ 它代表全部切片 - 行列全选！"
   ]
  },
  {
   "cell_type": "code",
   "execution_count": null,
   "metadata": {},
   "outputs": [
    {
     "data": {
      "text/plain": [
       "array([[1, 2, 3],\n",
       "       [4, 5, 6]])"
      ]
     },
     "metadata": {},
     "output_type": "display_data"
    }
   ],
   "source": [
    "list_of_lists = [ [1,2,3], [4, 5, 6] ]\n",
    "array_of_lists = np.array(list_of_lists)\n",
    "array_of_lists"
   ]
  },
  {
   "cell_type": "markdown",
   "metadata": {},
   "source": [
    "   - 二维数组切片：\n",
    "        先行，后列；逗号隔开行与列的切片参数"
   ]
  },
  {
   "cell_type": "code",
   "execution_count": 10,
   "metadata": {},
   "outputs": [
    {
     "name": "stdout",
     "output_type": "stream",
     "text": [
      "[1 4]\n"
     ]
    }
   ],
   "source": [
    "print(array_of_lists[:,0])"
   ]
  },
  {
   "cell_type": "code",
   "execution_count": 11,
   "metadata": {},
   "outputs": [
    {
     "name": "stdout",
     "output_type": "stream",
     "text": [
      "[[4 5]]\n"
     ]
    }
   ],
   "source": [
    "print(array_of_lists[1:2, 0:2])"
   ]
  },
  {
   "cell_type": "code",
   "execution_count": 117,
   "metadata": {},
   "outputs": [
    {
     "name": "stdout",
     "output_type": "stream",
     "text": [
      "[[1 2 3]\n",
      " [4 5 6]]\n"
     ]
    }
   ],
   "source": [
    "print(array_of_lists[:]) #全部切片 - 行列全选"
   ]
  },
  {
   "cell_type": "markdown",
   "metadata": {},
   "source": [
    "## 7.3 NumPy的数据筛选"
   ]
  },
  {
   "cell_type": "markdown",
   "metadata": {},
   "source": [
    "数据分析中，筛选数据必不可少；NumPy中可以通过**布尔过滤(boolean masking)**对数组进行筛选："
   ]
  },
  {
   "cell_type": "markdown",
   "metadata": {},
   "source": [
    "list(列表)不能做筛选:"
   ]
  },
  {
   "cell_type": "code",
   "execution_count": 14,
   "metadata": {},
   "outputs": [],
   "source": [
    "#\n",
    "bool_list = [True,True,False,False,True]\n",
    "data_list = [1,2,3,4,5]"
   ]
  },
  {
   "cell_type": "code",
   "execution_count": 15,
   "metadata": {},
   "outputs": [
    {
     "ename": "TypeError",
     "evalue": "list indices must be integers or slices, not list",
     "output_type": "error",
     "traceback": [
      "\u001b[0;31m---------------------------------------------------------------------------\u001b[0m",
      "\u001b[0;31mTypeError\u001b[0m                                 Traceback (most recent call last)",
      "\u001b[0;32m/var/folders/yk/k4_16cgj7ln9r39_p91t86lw0000gn/T/ipykernel_47188/4177212679.py\u001b[0m in \u001b[0;36m<module>\u001b[0;34m\u001b[0m\n\u001b[1;32m      1\u001b[0m \u001b[0;31m#\u001b[0m\u001b[0;34m\u001b[0m\u001b[0;34m\u001b[0m\u001b[0;34m\u001b[0m\u001b[0m\n\u001b[0;32m----> 2\u001b[0;31m \u001b[0mdata_list\u001b[0m\u001b[0;34m[\u001b[0m\u001b[0mbool_list\u001b[0m\u001b[0;34m]\u001b[0m\u001b[0;34m\u001b[0m\u001b[0;34m\u001b[0m\u001b[0m\n\u001b[0m",
      "\u001b[0;31mTypeError\u001b[0m: list indices must be integers or slices, not list"
     ]
    }
   ],
   "source": [
    "#\n",
    "bool_list = [True,True,False,False,True]\n",
    "data_list = [1,2,3,4,5]\n",
    "data_list[bool_list]"
   ]
  },
  {
   "cell_type": "markdown",
   "metadata": {},
   "source": [
    "把list转换成array, 再进行筛选:\n",
    " 1. 生成一个布尔过滤(手动或者通过条件判断生成)\n",
    " 2. 将一个布尔过滤(boolean masking)放入一个数组中\n",
    " 3. 返回一个新的数组，里面的每一个元素对应布尔过滤中的True"
   ]
  },
  {
   "cell_type": "code",
   "execution_count": 16,
   "metadata": {},
   "outputs": [],
   "source": [
    "bool_array = np.array(bool_list)\n",
    "data_array = np.array(data_list)"
   ]
  },
  {
   "cell_type": "code",
   "execution_count": 17,
   "metadata": {},
   "outputs": [
    {
     "name": "stdout",
     "output_type": "stream",
     "text": [
      "[ True  True False False  True]\n"
     ]
    }
   ],
   "source": [
    "print(bool_array)"
   ]
  },
  {
   "cell_type": "code",
   "execution_count": 18,
   "metadata": {},
   "outputs": [
    {
     "name": "stdout",
     "output_type": "stream",
     "text": [
      "[1 2 3 4 5]\n"
     ]
    }
   ],
   "source": [
    "print(data_array)"
   ]
  },
  {
   "cell_type": "code",
   "execution_count": 19,
   "metadata": {},
   "outputs": [
    {
     "data": {
      "text/plain": [
       "array([1, 2, 5])"
      ]
     },
     "execution_count": 19,
     "metadata": {},
     "output_type": "execute_result"
    }
   ],
   "source": [
    "data_array[bool_array]"
   ]
  },
  {
   "cell_type": "code",
   "execution_count": 20,
   "metadata": {},
   "outputs": [
    {
     "name": "stdout",
     "output_type": "stream",
     "text": [
      "[1 2 5]\n"
     ]
    }
   ],
   "source": [
    "newarray=data_array[bool_array]\n",
    "print(newarray)"
   ]
  },
  {
   "cell_type": "markdown",
   "metadata": {},
   "source": [
    "通过条件生成一个布尔过滤，并用来筛选:"
   ]
  },
  {
   "cell_type": "code",
   "execution_count": 4,
   "metadata": {},
   "outputs": [
    {
     "data": {
      "text/plain": [
       "array([False, False, False, False, False, False,  True,  True,  True,\n",
       "        True])"
      ]
     },
     "execution_count": 4,
     "metadata": {},
     "output_type": "execute_result"
    }
   ],
   "source": [
    "data_array = np.arange(10)\n",
    "data_array > 5"
   ]
  },
  {
   "cell_type": "markdown",
   "metadata": {},
   "source": [
    "将生成的布尔过滤(boolean masking)放入数组中做**筛选**："
   ]
  },
  {
   "cell_type": "code",
   "execution_count": 21,
   "metadata": {},
   "outputs": [
    {
     "name": "stdout",
     "output_type": "stream",
     "text": [
      "[]\n",
      "[1 2 3 4 5]\n"
     ]
    }
   ],
   "source": [
    "print(data_array[data_array > 5])\n",
    "print(data_array)"
   ]
  },
  {
   "cell_type": "markdown",
   "metadata": {},
   "source": [
    "还可以将生成的布尔过滤(boolean masking)放入数组中做**赋值, 更改原数组**："
   ]
  },
  {
   "cell_type": "code",
   "execution_count": 154,
   "metadata": {},
   "outputs": [
    {
     "name": "stdout",
     "output_type": "stream",
     "text": [
      "[   0    1    2    3    4    5 -999 -999 -999 -999]\n"
     ]
    }
   ],
   "source": [
    "data_array[data_array > 5] = -999\n",
    "print(data_array)"
   ]
  },
  {
   "cell_type": "markdown",
   "metadata": {},
   "source": [
    "NumPy中，使用\n",
    "   - **&** (并列条件and)\n",
    "   - **|** (或者条件or)\n",
    "   \n",
    "进行多条件判断:"
   ]
  },
  {
   "cell_type": "code",
   "execution_count": 158,
   "metadata": {},
   "outputs": [
    {
     "name": "stdout",
     "output_type": "stream",
     "text": [
      "[5 6 7 8]\n"
     ]
    }
   ],
   "source": [
    "data_array = np.arange(10)\n",
    "filtered_data_array_and = data_array[(data_array >= 5) & (data_array < 9)] \n",
    "print(filtered_data_array_and)"
   ]
  },
  {
   "cell_type": "code",
   "execution_count": 159,
   "metadata": {},
   "outputs": [],
   "source": [
    "#练习\n",
    "#对于数组data_array, 只返回大于5或者小于8的元素"
   ]
  },
  {
   "cell_type": "code",
   "execution_count": 160,
   "metadata": {},
   "outputs": [
    {
     "name": "stdout",
     "output_type": "stream",
     "text": [
      "[0 1 2 3 4 5 6 7 8 9]\n"
     ]
    }
   ],
   "source": [
    "filtered_data_array_or = data_array[(data_array > 5) | (data_array < 8)]\n",
    "print(filtered_data_array_or)"
   ]
  },
  {
   "cell_type": "markdown",
   "metadata": {},
   "source": [
    "## 7.4 NumPy的运算和广播"
   ]
  },
  {
   "cell_type": "markdown",
   "metadata": {},
   "source": [
    "NumPy数组的数学运算会对数组中元素逐个进行计算，既可以利用操作符，也可以使用函数方式："
   ]
  },
  {
   "cell_type": "code",
   "execution_count": 2,
   "metadata": {},
   "outputs": [
    {
     "name": "stdout",
     "output_type": "stream",
     "text": [
      "[0 1 2 3 4 5 6 7 8 9]\n",
      "[10 11 12 13 14 15 16 17 18 19]\n"
     ]
    }
   ],
   "source": [
    "import numpy as np\n",
    "x = np.arange(10)\n",
    "y = np.arange(10,20)\n",
    "print(x)\n",
    "print(y)"
   ]
  },
  {
   "cell_type": "code",
   "execution_count": 4,
   "metadata": {},
   "outputs": [
    {
     "name": "stdout",
     "output_type": "stream",
     "text": [
      "[ 0.    3.14  6.28  9.42 12.56 15.7  18.84 21.98 25.12 28.26]\n"
     ]
    }
   ],
   "source": [
    "#乘以一个常数\n",
    "print(x*3.14)"
   ]
  },
  {
   "cell_type": "code",
   "execution_count": 7,
   "metadata": {},
   "outputs": [
    {
     "name": "stdout",
     "output_type": "stream",
     "text": [
      "[0.         1.         1.41421356 1.73205081 2.         2.23606798\n",
      " 2.44948974 2.64575131 2.82842712 3.        ]\n"
     ]
    }
   ],
   "source": [
    "#求平方根\n",
    "print(np.sqrt(x))"
   ]
  },
  {
   "cell_type": "code",
   "execution_count": 5,
   "metadata": {},
   "outputs": [
    {
     "name": "stdout",
     "output_type": "stream",
     "text": [
      "[10 12 14 16 18 20 22 24 26 28]\n",
      "[10 12 14 16 18 20 22 24 26 28]\n"
     ]
    }
   ],
   "source": [
    "#两个数组相加 - 元素逐个相加\n",
    "print(x + y)\n",
    "print(np.add(x, y))"
   ]
  },
  {
   "cell_type": "code",
   "execution_count": null,
   "metadata": {},
   "outputs": [],
   "source": [
    "#两个数组相乘 - 元素逐个相乘\n",
    "print(x * y)\n",
    "print(np.multiply(x, y))"
   ]
  },
  {
   "cell_type": "code",
   "execution_count": 10,
   "metadata": {},
   "outputs": [
    {
     "name": "stdout",
     "output_type": "stream",
     "text": [
      "[0.         0.09090909 0.16666667 0.23076923 0.28571429 0.33333333\n",
      " 0.375      0.41176471 0.44444444 0.47368421]\n",
      "[0.         0.09090909 0.16666667 0.23076923 0.28571429 0.33333333\n",
      " 0.375      0.41176471 0.44444444 0.47368421]\n"
     ]
    }
   ],
   "source": [
    "#两个数组相除 - 元素逐个相除\n",
    "print(x / y)\n",
    "print(np.divide(x, y))"
   ]
  },
  {
   "cell_type": "markdown",
   "metadata": {},
   "source": [
    "数组的比较操作:"
   ]
  },
  {
   "cell_type": "code",
   "execution_count": 22,
   "metadata": {},
   "outputs": [],
   "source": [
    "h = np.array([5, 2, 3, 4])\n",
    "k = np.array([4, 3, 2, 4])"
   ]
  },
  {
   "cell_type": "code",
   "execution_count": 21,
   "metadata": {},
   "outputs": [
    {
     "name": "stdout",
     "output_type": "stream",
     "text": [
      "[False False False  True]\n"
     ]
    }
   ],
   "source": [
    "#逐个比较\n",
    "print (h == k)"
   ]
  },
  {
   "cell_type": "code",
   "execution_count": 23,
   "metadata": {},
   "outputs": [
    {
     "name": "stdout",
     "output_type": "stream",
     "text": [
      "[ True False  True False]\n"
     ]
    }
   ],
   "source": [
    "#逐个比较\n",
    "print (h > k)"
   ]
  },
  {
   "cell_type": "markdown",
   "metadata": {},
   "source": [
    "默认情况下数组的运算都是逐元素(elementwise)进行的，这就意味着进行运算的两个数组大小(shape)相同。然而，不同shape的两个数组之间也可以进行运算，比如上面例子中的*x*3.14* - 这是因为NumPy中的**广播(broadcasting)**机制\n",
    "\n",
    "**广播规则**：\n",
    "\n",
    "- 1. 如果两个数组在所有维度上都是**相容(compatible)**的，他们就能使用广播\n",
    "- 2. 怎么判断两个数组的在某个维度上**相容**？\n",
    "        - 1. 在某个维度上的长度一样，则相容\n",
    "        - 2. 某一个数组在该维度上长度为1, 则相容\n",
    "- 3. 注意， 如果两个数组维度数不同，小维度数组的形状会在最左边补1从而'完成维度填充'，然后去判断每个维度是否相容(被补1的肯定会相容)\n",
    "\n",
    "当条件满足时，基于广播机制，NumPy会**扩展**形状不同的数组，使最终的数组们都有相同形状，然后进行运算\n",
    "\n",
    "和一个常量进行运算，常量会和整个数组的每个元素一一运算\n",
    "\n",
    "如果条件不满足，会收到报错信息: operands could not be broadcast together"
   ]
  },
  {
   "cell_type": "markdown",
   "metadata": {},
   "source": [
    "正确情况1：维度相同，形状相同"
   ]
  },
  {
   "cell_type": "code",
   "execution_count": 26,
   "metadata": {},
   "outputs": [
    {
     "name": "stdout",
     "output_type": "stream",
     "text": [
      "2\n",
      "(5, 5)\n",
      "[[ 0  1  2  3  4]\n",
      " [ 5  6  7  8  9]\n",
      " [10 11 12 13 14]\n",
      " [15 16 17 18 19]\n",
      " [20 21 22 23 24]]\n"
     ]
    }
   ],
   "source": [
    "x = np.arange(25).reshape(5,5)\n",
    "print(x.ndim)\n",
    "print(x.shape)\n",
    "print(x)"
   ]
  },
  {
   "cell_type": "code",
   "execution_count": 27,
   "metadata": {},
   "outputs": [
    {
     "name": "stdout",
     "output_type": "stream",
     "text": [
      "2\n",
      "(5, 5)\n",
      "[[1. 1. 1. 1. 1.]\n",
      " [1. 1. 1. 1. 1.]\n",
      " [1. 1. 1. 1. 1.]\n",
      " [1. 1. 1. 1. 1.]\n",
      " [1. 1. 1. 1. 1.]]\n"
     ]
    }
   ],
   "source": [
    "y = np.ones((5,5))\n",
    "print(y.ndim)\n",
    "print(y.shape)\n",
    "print(y)"
   ]
  },
  {
   "cell_type": "code",
   "execution_count": 28,
   "metadata": {},
   "outputs": [
    {
     "name": "stdout",
     "output_type": "stream",
     "text": [
      "[[ 1.  2.  3.  4.  5.]\n",
      " [ 6.  7.  8.  9. 10.]\n",
      " [11. 12. 13. 14. 15.]\n",
      " [16. 17. 18. 19. 20.]\n",
      " [21. 22. 23. 24. 25.]]\n"
     ]
    }
   ],
   "source": [
    "print(x + y)"
   ]
  },
  {
   "cell_type": "markdown",
   "metadata": {},
   "source": [
    "正确情况2：维度相同，其中一个维度的长度为1，从而每个维度相容"
   ]
  },
  {
   "cell_type": "code",
   "execution_count": 23,
   "metadata": {},
   "outputs": [
    {
     "name": "stdout",
     "output_type": "stream",
     "text": [
      "2\n",
      "(1, 5)\n",
      "[[0 1 2 3 4]]\n"
     ]
    }
   ],
   "source": [
    "a = np.arange(5).reshape(1,5)\n",
    "print(a.ndim)\n",
    "print(a.shape)\n",
    "print(a)"
   ]
  },
  {
   "cell_type": "code",
   "execution_count": 30,
   "metadata": {},
   "outputs": [
    {
     "name": "stdout",
     "output_type": "stream",
     "text": [
      "2\n",
      "(5, 1)\n",
      "[[0]\n",
      " [1]\n",
      " [2]\n",
      " [3]\n",
      " [4]]\n"
     ]
    }
   ],
   "source": [
    "b = np.arange(5).reshape(5,1)\n",
    "print(b.ndim)\n",
    "print(b.shape)\n",
    "print(b)"
   ]
  },
  {
   "cell_type": "code",
   "execution_count": 25,
   "metadata": {},
   "outputs": [
    {
     "name": "stdout",
     "output_type": "stream",
     "text": [
      "[[0 1 2 3 4]\n",
      " [1 2 3 4 5]\n",
      " [2 3 4 5 6]\n",
      " [3 4 5 6 7]\n",
      " [4 5 6 7 8]]\n"
     ]
    }
   ],
   "source": [
    "print(a + b)"
   ]
  },
  {
   "cell_type": "markdown",
   "metadata": {},
   "source": [
    "正确情况3：维度不相同，小维度数组的形状会在最左边补1从而'完成维度填充'，然后判断相容并运算"
   ]
  },
  {
   "cell_type": "code",
   "execution_count": 93,
   "metadata": {},
   "outputs": [
    {
     "name": "stdout",
     "output_type": "stream",
     "text": [
      "1\n",
      "(5,)\n",
      "[0 1 2 3 4]\n"
     ]
    }
   ],
   "source": [
    "e = np.arange(5)\n",
    "print(e.ndim)\n",
    "print(e.shape)\n",
    "print(e)"
   ]
  },
  {
   "cell_type": "code",
   "execution_count": 3,
   "metadata": {},
   "outputs": [
    {
     "name": "stdout",
     "output_type": "stream",
     "text": [
      "2\n",
      "(5, 5)\n",
      "[[1. 1. 1. 1. 1.]\n",
      " [1. 1. 1. 1. 1.]\n",
      " [1. 1. 1. 1. 1.]\n",
      " [1. 1. 1. 1. 1.]\n",
      " [1. 1. 1. 1. 1.]]\n"
     ]
    }
   ],
   "source": [
    "f = np.ones((5,5))\n",
    "print(f.ndim)\n",
    "print(f.shape)\n",
    "print(f)"
   ]
  },
  {
   "cell_type": "code",
   "execution_count": 95,
   "metadata": {},
   "outputs": [
    {
     "name": "stdout",
     "output_type": "stream",
     "text": [
      "[[1. 2. 3. 4. 5.]\n",
      " [1. 2. 3. 4. 5.]\n",
      " [1. 2. 3. 4. 5.]\n",
      " [1. 2. 3. 4. 5.]\n",
      " [1. 2. 3. 4. 5.]]\n"
     ]
    }
   ],
   "source": [
    "#数组e,会被填充成二维并且有(1,5)的形状\n",
    "print(e + f)"
   ]
  },
  {
   "cell_type": "markdown",
   "metadata": {},
   "source": [
    "正确情况4：和一个常量进行运算，常量会和整个数组的每个元素一一运算"
   ]
  },
  {
   "cell_type": "code",
   "execution_count": 13,
   "metadata": {},
   "outputs": [
    {
     "name": "stdout",
     "output_type": "stream",
     "text": [
      "[[ 0  1  2  3  4]\n",
      " [ 5  6  7  8  9]\n",
      " [10 11 12 13 14]\n",
      " [15 16 17 18 19]\n",
      " [20 21 22 23 24]]\n",
      "[[   0  100  200  300  400]\n",
      " [ 500  600  700  800  900]\n",
      " [1000 1100 1200 1300 1400]\n",
      " [1500 1600 1700 1800 1900]\n",
      " [2000 2100 2200 2300 2400]]\n"
     ]
    }
   ],
   "source": [
    "x = np.arange(25).reshape(5,5)\n",
    "print(x)\n",
    "print(x * 100)"
   ]
  },
  {
   "cell_type": "markdown",
   "metadata": {},
   "source": [
    "    - 错误情况1：维度相同，但长度不相同，且没有一个维度的长度为1"
   ]
  },
  {
   "cell_type": "code",
   "execution_count": 64,
   "metadata": {},
   "outputs": [
    {
     "name": "stdout",
     "output_type": "stream",
     "text": [
      "1\n",
      "(4,)\n",
      "[0 1 2 3]\n"
     ]
    }
   ],
   "source": [
    "x = np.arange(4)\n",
    "print(x.ndim)\n",
    "print(x.shape)\n",
    "print(x)"
   ]
  },
  {
   "cell_type": "code",
   "execution_count": 65,
   "metadata": {},
   "outputs": [
    {
     "name": "stdout",
     "output_type": "stream",
     "text": [
      "1\n",
      "(5,)\n",
      "[1. 1. 1. 1. 1.]\n"
     ]
    }
   ],
   "source": [
    "y = np.ones(5)\n",
    "print(y.ndim)\n",
    "print(y.shape)\n",
    "print(y)"
   ]
  },
  {
   "cell_type": "code",
   "execution_count": 66,
   "metadata": {},
   "outputs": [
    {
     "ename": "ValueError",
     "evalue": "operands could not be broadcast together with shapes (4,) (5,) ",
     "output_type": "error",
     "traceback": [
      "\u001b[1;31m---------------------------------------------------------------------------\u001b[0m",
      "\u001b[1;31mValueError\u001b[0m                                Traceback (most recent call last)",
      "\u001b[1;32m<ipython-input-66-f09a7b03ddbf>\u001b[0m in \u001b[0;36m<module>\u001b[1;34m()\u001b[0m\n\u001b[1;32m----> 1\u001b[1;33m \u001b[0mprint\u001b[0m\u001b[1;33m(\u001b[0m\u001b[0mx\u001b[0m \u001b[1;33m+\u001b[0m \u001b[0my\u001b[0m\u001b[1;33m)\u001b[0m\u001b[1;33m\u001b[0m\u001b[0m\n\u001b[0m",
      "\u001b[1;31mValueError\u001b[0m: operands could not be broadcast together with shapes (4,) (5,) "
     ]
    }
   ],
   "source": [
    "print(x + y)"
   ]
  },
  {
   "cell_type": "markdown",
   "metadata": {},
   "source": [
    "    - 错误情况2：维度相同, 但一个维度相容，另一个不相容"
   ]
  },
  {
   "cell_type": "code",
   "execution_count": 77,
   "metadata": {},
   "outputs": [
    {
     "name": "stdout",
     "output_type": "stream",
     "text": [
      "2\n",
      "(4, 1)\n",
      "[[0]\n",
      " [1]\n",
      " [2]\n",
      " [3]]\n"
     ]
    }
   ],
   "source": [
    "xx =np.arange(4).reshape(4,1)\n",
    "print(xx.ndim)\n",
    "print(xx.shape)\n",
    "print(xx)"
   ]
  },
  {
   "cell_type": "code",
   "execution_count": 78,
   "metadata": {},
   "outputs": [
    {
     "name": "stdout",
     "output_type": "stream",
     "text": [
      "2\n",
      "(3, 4)\n",
      "[[1. 1. 1. 1.]\n",
      " [1. 1. 1. 1.]\n",
      " [1. 1. 1. 1.]]\n"
     ]
    }
   ],
   "source": [
    "z = np.ones((3,4))\n",
    "print(z.ndim)\n",
    "print(z.shape)\n",
    "print(z)"
   ]
  },
  {
   "cell_type": "code",
   "execution_count": 79,
   "metadata": {},
   "outputs": [
    {
     "ename": "ValueError",
     "evalue": "operands could not be broadcast together with shapes (4,1) (3,4) ",
     "output_type": "error",
     "traceback": [
      "\u001b[1;31m---------------------------------------------------------------------------\u001b[0m",
      "\u001b[1;31mValueError\u001b[0m                                Traceback (most recent call last)",
      "\u001b[1;32m<ipython-input-79-fd4182265705>\u001b[0m in \u001b[0;36m<module>\u001b[1;34m()\u001b[0m\n\u001b[1;32m----> 1\u001b[1;33m \u001b[0mprint\u001b[0m\u001b[1;33m(\u001b[0m\u001b[0mxx\u001b[0m \u001b[1;33m+\u001b[0m \u001b[0mz\u001b[0m\u001b[1;33m)\u001b[0m\u001b[1;33m\u001b[0m\u001b[0m\n\u001b[0m",
      "\u001b[1;31mValueError\u001b[0m: operands could not be broadcast together with shapes (4,1) (3,4) "
     ]
    }
   ],
   "source": [
    "print(xx + z)"
   ]
  },
  {
   "cell_type": "markdown",
   "metadata": {},
   "source": [
    "    - 错误情况3：维度不相同, '填充维度'后不相容"
   ]
  },
  {
   "cell_type": "code",
   "execution_count": 97,
   "metadata": {},
   "outputs": [
    {
     "name": "stdout",
     "output_type": "stream",
     "text": [
      "1\n",
      "(4,)\n",
      "[0 1 2 3]\n"
     ]
    }
   ],
   "source": [
    "ee = np.arange(4)\n",
    "print(ee.ndim)\n",
    "print(ee.shape)\n",
    "print(ee)"
   ]
  },
  {
   "cell_type": "code",
   "execution_count": 98,
   "metadata": {},
   "outputs": [
    {
     "name": "stdout",
     "output_type": "stream",
     "text": [
      "2\n",
      "(2, 5)\n",
      "[[1. 1. 1. 1. 1.]\n",
      " [1. 1. 1. 1. 1.]]\n"
     ]
    }
   ],
   "source": [
    "f = np.ones((2,5))\n",
    "print(f.ndim)\n",
    "print(f.shape)\n",
    "print(f)"
   ]
  },
  {
   "cell_type": "code",
   "execution_count": 99,
   "metadata": {},
   "outputs": [
    {
     "ename": "ValueError",
     "evalue": "operands could not be broadcast together with shapes (4,) (2,5) ",
     "output_type": "error",
     "traceback": [
      "\u001b[1;31m---------------------------------------------------------------------------\u001b[0m",
      "\u001b[1;31mValueError\u001b[0m                                Traceback (most recent call last)",
      "\u001b[1;32m<ipython-input-99-ce867c18f1cb>\u001b[0m in \u001b[0;36m<module>\u001b[1;34m()\u001b[0m\n\u001b[0;32m      1\u001b[0m \u001b[1;31m#数组ee,会被填充成二维并且有(1,4)的形状\u001b[0m\u001b[1;33m\u001b[0m\u001b[1;33m\u001b[0m\u001b[0m\n\u001b[1;32m----> 2\u001b[1;33m \u001b[0mprint\u001b[0m\u001b[1;33m(\u001b[0m\u001b[0mee\u001b[0m \u001b[1;33m+\u001b[0m \u001b[0mf\u001b[0m\u001b[1;33m)\u001b[0m\u001b[1;33m\u001b[0m\u001b[0m\n\u001b[0m",
      "\u001b[1;31mValueError\u001b[0m: operands could not be broadcast together with shapes (4,) (2,5) "
     ]
    }
   ],
   "source": [
    "#数组ee,会被填充成二维并且有(1,4)的形状\n",
    "print(ee + f)"
   ]
  },
  {
   "cell_type": "markdown",
   "metadata": {},
   "source": [
    "其他广播后可以运行的例子：\n",
    "\n",
    "A      (2d array):  5 x 4\n",
    "\n",
    "B      (1d array):  &nbsp;&nbsp;&nbsp;&nbsp;&nbsp;&nbsp;1\n",
    "\n",
    "Result (2d array):  5 x 4\n",
    "\n",
    "\n",
    "--------------------------------\n",
    "\n",
    "\n",
    "A      (3d array):  15 x 3 x 5\n",
    "\n",
    "B      (2d array):  &nbsp;&nbsp;&nbsp;&nbsp;&nbsp;&nbsp;&nbsp;&nbsp;3 x 1\n",
    "\n",
    "Result (3d array):  15 x 3 x 5\n",
    "\n",
    "\n",
    "\n",
    "--------------------------------\n",
    "\n",
    "A      (3d array):  15 x 3 x 5\n",
    "\n",
    "B      (3d array):  15 x 1 x 5\n",
    "\n",
    "Result (3d array):  15 x 3 x 5\n",
    "\n",
    "总结 - 如何判断是否可以广播:\n",
    "\n",
    "    -使用ndarray.ndim, ndarray.shape获取维度和形状信息\n",
    "    -结合广播原则判断每个维度是否相容 - 长度相同，或者某个为1\n",
    "    -全部相容则不报错\n",
    "\n"
   ]
  },
  {
   "cell_type": "markdown",
   "metadata": {},
   "source": [
    "## 7.5 NumPy常用函数"
   ]
  },
  {
   "cell_type": "markdown",
   "metadata": {},
   "source": [
    "NumPy中的随机函数numpy.random\n",
    "\n",
    "在使用Python做数据分析时，经常需要用到NumPy的随机函数-random, 它有着非常丰富的功能"
   ]
  },
  {
   "cell_type": "markdown",
   "metadata": {},
   "source": [
    "   - **numpy.random.rand**(d0, d1, ..., dn)\n",
    "       - rand函数根据给定维度生成[0,1)之间的数据，包含0，不包含1\n",
    "       - dn代表维度\n",
    "       - 返回值为指定维度的数组"
   ]
  },
  {
   "cell_type": "code",
   "execution_count": 133,
   "metadata": {},
   "outputs": [
    {
     "name": "stdout",
     "output_type": "stream",
     "text": [
      "[[0.08209554 0.37360459]\n",
      " [0.03804002 0.65957087]\n",
      " [0.21330364 0.67284281]\n",
      " [0.29825834 0.26506013]]\n"
     ]
    }
   ],
   "source": [
    "a = np.random.rand(4,2)\n",
    "print(a)"
   ]
  },
  {
   "cell_type": "markdown",
   "metadata": {},
   "source": [
    "   - **numpy.random.randint**(low, high=None, size=None, dtype=int):\n",
    "       - 返回随机整数，范围区间为 [low,high），包含low，不包含high\n",
    "       - 参数：low为最小值，high为最大值，size为数组维度大小，dtype为数据类型，默认的数据类型是整数t\n",
    "       - high没有填写时，默认生成随机数的范围是[0，low)\n",
    "       - size 默认为None,返回一个单独整数,而不是数组"
   ]
  },
  {
   "cell_type": "code",
   "execution_count": 134,
   "metadata": {},
   "outputs": [
    {
     "name": "stdout",
     "output_type": "stream",
     "text": [
      "[[6 2 5]\n",
      " [2 6 3]]\n"
     ]
    }
   ],
   "source": [
    "a = np.random.randint(0,7,size=(2,3)) \n",
    "print(a)"
   ]
  },
  {
   "cell_type": "code",
   "execution_count": 174,
   "metadata": {},
   "outputs": [
    {
     "name": "stdout",
     "output_type": "stream",
     "text": [
      "1\n"
     ]
    },
    {
     "data": {
      "text/plain": [
       "int"
      ]
     },
     "execution_count": 174,
     "metadata": {},
     "output_type": "execute_result"
    }
   ],
   "source": [
    "#因为没有size参数，所以返回1个[1,3)区间的随机整数\n",
    "a = np.random.randint(1,3) \n",
    "print(a)\n",
    "type(a)"
   ]
  },
  {
   "cell_type": "code",
   "execution_count": 43,
   "metadata": {},
   "outputs": [
    {
     "name": "stdout",
     "output_type": "stream",
     "text": [
      "[[2 4]\n",
      " [4 2]\n",
      " [3 0]]\n"
     ]
    }
   ],
   "source": [
    " #若只设置一个参数，则表示[0,low）\n",
    "a = np.random.randint(5,size=(3,2))\n",
    "print(a)"
   ]
  },
  {
   "cell_type": "code",
   "execution_count": 184,
   "metadata": {},
   "outputs": [
    {
     "name": "stdout",
     "output_type": "stream",
     "text": [
      "[5 6 7 6 5 5]\n",
      "1\n"
     ]
    }
   ],
   "source": [
    "#返回一维数组\n",
    "a = np.random.randint(5,8,size=(6,))\n",
    "print(a)\n",
    "print(a.ndim)"
   ]
  },
  {
   "cell_type": "markdown",
   "metadata": {},
   "source": [
    "   - **np.random.seed()**\n",
    "        - 当我们设置相同的seed，每次生成的随机数相同。如果不设置seed，则每次会生成不同的随机数"
   ]
  },
  {
   "cell_type": "code",
   "execution_count": 44,
   "metadata": {},
   "outputs": [
    {
     "data": {
      "text/plain": [
       "array([0.19151945, 0.62210877, 0.43772774, 0.78535858, 0.77997581])"
      ]
     },
     "execution_count": 44,
     "metadata": {},
     "output_type": "execute_result"
    }
   ],
   "source": [
    "np.random.seed(1234)\n",
    "np.random.rand(5)"
   ]
  },
  {
   "cell_type": "code",
   "execution_count": 45,
   "metadata": {},
   "outputs": [
    {
     "data": {
      "text/plain": [
       "array([0.92961609, 0.31637555, 0.18391881, 0.20456028, 0.56772503])"
      ]
     },
     "execution_count": 45,
     "metadata": {},
     "output_type": "execute_result"
    }
   ],
   "source": [
    "np.random.seed(12345)\n",
    "np.random.rand(5)"
   ]
  },
  {
   "cell_type": "code",
   "execution_count": 46,
   "metadata": {},
   "outputs": [
    {
     "data": {
      "text/plain": [
       "array([0.19151945, 0.62210877, 0.43772774, 0.78535858, 0.77997581])"
      ]
     },
     "execution_count": 46,
     "metadata": {},
     "output_type": "execute_result"
    }
   ],
   "source": [
    "np.random.seed(1234)\n",
    "np.random.rand(5)"
   ]
  },
  {
   "cell_type": "markdown",
   "metadata": {},
   "source": [
    "NumPy常用统计函数:"
   ]
  },
  {
   "cell_type": "markdown",
   "metadata": {},
   "source": [
    "- numpy.sum() 返回求和\n",
    "- numpy.mean() 返回均值\n",
    "- numpy.max() 返回最大值\n",
    "- numpy.min() 返回最小值\n",
    "- numpy.std() 返回标准偏差\n",
    "- numpy.median 返回中位数\n",
    "- numpy.argmax() 返回最大值索引\n",
    "- numpy.argmin() 返回最小值索引\n",
    "- numpy.ptp()，数组沿指定轴返回最大值减去最小值，即(max-min)\n",
    "\n",
    "\n",
    "- 这几个函数都有一个参数 - 轴(axis)，若不指定，默认时axis=None, 整个数组会被扁平化(flattened), 然后针对所有元素进行运算\n",
    "- 轴(axis)用来为超过一维的数组定义的属性，二维数据拥有两个轴：\n",
    "\n",
    "    **axis= 0: 对横轴进行操作，在运算的过程中其运算的方向表现为纵向运算**\n",
    "    \n",
    "    **axis= 1: 对纵轴进行操作，在运算的过程中其运算的方向表现为横向运算**\n",
    "    \n",
    "     axis = 0 means along the column and axis = 1 means working along the row."
   ]
  },
  {
   "cell_type": "code",
   "execution_count": 24,
   "metadata": {},
   "outputs": [
    {
     "name": "stdout",
     "output_type": "stream",
     "text": [
      "[[26 23 81 74 36]\n",
      " [32 21 35 10 94]\n",
      " [75 68 30 83  2]\n",
      " [43 67  1 86 26]]\n"
     ]
    }
   ],
   "source": [
    "a = np.random.randint(0,100,size=(4,5)) \n",
    "print(a)"
   ]
  },
  {
   "cell_type": "code",
   "execution_count": 157,
   "metadata": {},
   "outputs": [
    {
     "data": {
      "text/plain": [
       "862"
      ]
     },
     "execution_count": 157,
     "metadata": {},
     "output_type": "execute_result"
    }
   ],
   "source": [
    "#对所有元素进行求和\n",
    "np.sum(a)"
   ]
  },
  {
   "cell_type": "code",
   "execution_count": 158,
   "metadata": {},
   "outputs": [
    {
     "data": {
      "text/plain": [
       "array([225, 187, 225, 225])"
      ]
     },
     "execution_count": 158,
     "metadata": {},
     "output_type": "execute_result"
    }
   ],
   "source": [
    "#横向运算\n",
    "np.sum(a, axis=1)"
   ]
  },
  {
   "cell_type": "code",
   "execution_count": 159,
   "metadata": {},
   "outputs": [
    {
     "data": {
      "text/plain": [
       "array([172, 201, 183, 155, 151])"
      ]
     },
     "execution_count": 159,
     "metadata": {},
     "output_type": "execute_result"
    }
   ],
   "source": [
    "#纵向运算\n",
    "np.sum(a, axis=0)"
   ]
  },
  {
   "cell_type": "code",
   "execution_count": 161,
   "metadata": {},
   "outputs": [
    {
     "data": {
      "text/plain": [
       "16"
      ]
     },
     "execution_count": 161,
     "metadata": {},
     "output_type": "execute_result"
    }
   ],
   "source": [
    "#返回所有元素中最大值的索引(从左到右，一行一行找，然后返回对应索引)\n",
    "np.argmax(a)"
   ]
  },
  {
   "cell_type": "code",
   "execution_count": 162,
   "metadata": {},
   "outputs": [
    {
     "data": {
      "text/plain": [
       "array([1, 3, 4, 1], dtype=int64)"
      ]
     },
     "execution_count": 162,
     "metadata": {},
     "output_type": "execute_result"
    }
   ],
   "source": [
    "#横向找最大值 - 找到每行中的最大值，返回索引\n",
    "np.argmax(a, axis=1)"
   ]
  },
  {
   "cell_type": "code",
   "execution_count": 164,
   "metadata": {},
   "outputs": [
    {
     "data": {
      "text/plain": [
       "array([0, 3, 1, 1, 2], dtype=int64)"
      ]
     },
     "execution_count": 164,
     "metadata": {},
     "output_type": "execute_result"
    }
   ],
   "source": [
    "#纵向找最大值 - 找到每列中的最大值，返回索引\n",
    "np.argmax(a, axis=0)"
   ]
  },
  {
   "cell_type": "markdown",
   "metadata": {},
   "source": [
    "NumPy的排序函数：\n",
    "   - **numpy.sort**(a, axis=-1, kind=None, order=None)\n",
    "       - 返回排好序的一个数组\n",
    "       - axis 默认为-1，也就是对最后一个轴进行排序(对于二维数组，最后一个轴即axis=1); 如果axis=None则数组被扁平化，然后排序\n",
    "       - order：在结构化数组中，可以指定按某个字段排序; 默认没有时，**对数组只能进行升序排列，无法降序**"
   ]
  },
  {
   "cell_type": "code",
   "execution_count": 192,
   "metadata": {},
   "outputs": [
    {
     "name": "stdout",
     "output_type": "stream",
     "text": [
      "[[57 40 95 65 33]\n",
      " [ 7 28 78 57 19]\n",
      " [40 43 45 64 44]\n",
      " [59 35  2 27 99]]\n"
     ]
    }
   ],
   "source": [
    "a = np.random.randint(0,100,size=(4,5)) \n",
    "print(a)"
   ]
  },
  {
   "cell_type": "code",
   "execution_count": 193,
   "metadata": {},
   "outputs": [
    {
     "data": {
      "text/plain": [
       "array([[33, 40, 57, 65, 95],\n",
       "       [ 7, 19, 28, 57, 78],\n",
       "       [40, 43, 44, 45, 64],\n",
       "       [ 2, 27, 35, 59, 99]])"
      ]
     },
     "execution_count": 193,
     "metadata": {},
     "output_type": "execute_result"
    }
   ],
   "source": [
    "#axis默认为-1, 如果是二维数组时，也就是相当于axis= 1， 对纵轴进行操作，即横向运算\n",
    "np.sort(a)"
   ]
  },
  {
   "cell_type": "code",
   "execution_count": 195,
   "metadata": {},
   "outputs": [
    {
     "data": {
      "text/plain": [
       "array([[33, 40, 57, 65, 95],\n",
       "       [ 7, 19, 28, 57, 78],\n",
       "       [40, 43, 44, 45, 64],\n",
       "       [ 2, 27, 35, 59, 99]])"
      ]
     },
     "execution_count": 195,
     "metadata": {},
     "output_type": "execute_result"
    }
   ],
   "source": [
    "#axis= 1， 二维数组时，对纵轴进行操作，即横向运算\n",
    "np.sort(a, axis=1)"
   ]
  },
  {
   "cell_type": "code",
   "execution_count": 196,
   "metadata": {},
   "outputs": [
    {
     "data": {
      "text/plain": [
       "array([ 2,  7, 19, 27, 28, 33, 35, 40, 40, 43, 44, 45, 57, 57, 59, 64, 65,\n",
       "       78, 95, 99])"
      ]
     },
     "execution_count": 196,
     "metadata": {},
     "output_type": "execute_result"
    }
   ],
   "source": [
    "#数组被扁平化，然后排序\n",
    "np.sort(a, axis=None)"
   ]
  },
  {
   "cell_type": "code",
   "execution_count": 199,
   "metadata": {},
   "outputs": [
    {
     "name": "stdout",
     "output_type": "stream",
     "text": [
      "[ 0 11 30 69 71 73 79]\n"
     ]
    }
   ],
   "source": [
    "#一维数组升序排列\n",
    "b = np.random.randint(0,100,size=(7,)) \n",
    "c = np.sort(b)\n",
    "print(c)"
   ]
  },
  {
   "cell_type": "code",
   "execution_count": 201,
   "metadata": {
    "scrolled": true
   },
   "outputs": [
    {
     "name": "stdout",
     "output_type": "stream",
     "text": [
      "[79 73 71 69 30 11  0]\n"
     ]
    }
   ],
   "source": [
    "#如何实现降序？ 通过切片\n",
    "d = c[::-1]\n",
    "print(d)"
   ]
  },
  {
   "cell_type": "markdown",
   "metadata": {},
   "source": [
    "NumPy的排序方法(method)："
   ]
  },
  {
   "cell_type": "markdown",
   "metadata": {},
   "source": [
    "   - **numpy.ndarray.sort**(axis=-1, kind=None, order=None)\n",
    "        \n",
    "        - 用法和numpy.sort一样。区别在于，作用于对象，也就是被作用的原数组会被改变"
   ]
  },
  {
   "cell_type": "code",
   "execution_count": 202,
   "metadata": {},
   "outputs": [
    {
     "name": "stdout",
     "output_type": "stream",
     "text": [
      "[83 63 41 68 60 17 90]\n"
     ]
    }
   ],
   "source": [
    "b = np.random.randint(0,100,size=(7,)) \n",
    "print(b)"
   ]
  },
  {
   "cell_type": "code",
   "execution_count": 203,
   "metadata": {},
   "outputs": [],
   "source": [
    "b.sort()"
   ]
  },
  {
   "cell_type": "code",
   "execution_count": 204,
   "metadata": {
    "scrolled": true
   },
   "outputs": [
    {
     "name": "stdout",
     "output_type": "stream",
     "text": [
      "[17 41 60 63 68 83 90]\n"
     ]
    }
   ],
   "source": [
    "print(b)"
   ]
  },
  {
   "cell_type": "markdown",
   "metadata": {},
   "source": [
    "NumPy的numpy.unique()函数："
   ]
  },
  {
   "cell_type": "markdown",
   "metadata": {},
   "source": [
    "   - **numpy.unique**(ar, return_index=False, return_inverse=False, return_counts=False, axis=None)\n",
    "        - 返回新数组。该新数组由原数组中去掉重复后的元素并排好序组成\n",
    "        - 除了上述结果，还能返回另外三个结果：\n",
    "            - return_index: 返回去重后的值在原数组中对应的索引\n",
    "            - return_inverse：返回一系列新数组中元素对应的索引。可以通过返回的这些索引重新构建原来的数组\n",
    "            - return_counts：返回每个去重后的元素在原数组中出现的次数"
   ]
  },
  {
   "cell_type": "code",
   "execution_count": 3,
   "metadata": {},
   "outputs": [
    {
     "name": "stdout",
     "output_type": "stream",
     "text": [
      "[6 2 6 9 2 7 0 0 8 3 5 8 1 1 7]\n"
     ]
    }
   ],
   "source": [
    "b = np.random.randint(0,10,size=(15,)) \n",
    "print(b)"
   ]
  },
  {
   "cell_type": "code",
   "execution_count": 213,
   "metadata": {},
   "outputs": [
    {
     "data": {
      "text/plain": [
       "array([0, 1, 2, 3, 4, 5, 6, 7, 8])"
      ]
     },
     "execution_count": 213,
     "metadata": {},
     "output_type": "execute_result"
    }
   ],
   "source": [
    "np.unique(b)"
   ]
  },
  {
   "cell_type": "code",
   "execution_count": 214,
   "metadata": {},
   "outputs": [
    {
     "data": {
      "text/plain": [
       "(array([0, 1, 2, 3, 4, 5, 6, 7, 8]),\n",
       " array([ 4,  1,  0, 10,  9,  2,  8,  6,  7], dtype=int64))"
      ]
     },
     "execution_count": 214,
     "metadata": {},
     "output_type": "execute_result"
    }
   ],
   "source": [
    "np.unique(b, return_index=True)"
   ]
  },
  {
   "cell_type": "code",
   "execution_count": 4,
   "metadata": {},
   "outputs": [
    {
     "data": {
      "text/plain": [
       "(array([0, 1, 2, 3, 5, 6, 7, 8, 9]),\n",
       " array([5, 2, 5, 8, 2, 6, 0, 0, 7, 3, 4, 7, 1, 1, 6]))"
      ]
     },
     "execution_count": 4,
     "metadata": {},
     "output_type": "execute_result"
    }
   ],
   "source": [
    "np.unique(b, return_inverse=True)"
   ]
  },
  {
   "cell_type": "code",
   "execution_count": 5,
   "metadata": {},
   "outputs": [],
   "source": [
    "a,b = np.unique(b, return_inverse=True)"
   ]
  },
  {
   "cell_type": "code",
   "execution_count": 7,
   "metadata": {},
   "outputs": [
    {
     "data": {
      "text/plain": [
       "[6, 2, 6, 9, 2, 7, 0, 0, 8, 3, 5, 8, 1, 1, 7]"
      ]
     },
     "execution_count": 7,
     "metadata": {},
     "output_type": "execute_result"
    }
   ],
   "source": [
    "def m_a(array1, array2):\n",
    "    l = []\n",
    "    for i in array2:\n",
    "        l.append(array1[i])\n",
    "    return l\n",
    "m_a(a, b)"
   ]
  },
  {
   "cell_type": "code",
   "execution_count": 222,
   "metadata": {},
   "outputs": [
    {
     "name": "stdout",
     "output_type": "stream",
     "text": [
      "2\n",
      "1\n",
      "5\n",
      "2\n",
      "0\n",
      "1\n",
      "7\n",
      "8\n",
      "6\n",
      "4\n",
      "3\n",
      "5\n",
      "8\n",
      "3\n",
      "8\n"
     ]
    }
   ],
   "source": [
    "for i in b:\n",
    "    print(a[i])"
   ]
  },
  {
   "cell_type": "code",
   "execution_count": 223,
   "metadata": {},
   "outputs": [
    {
     "data": {
      "text/plain": [
       "(array([0, 1, 2, 3, 4, 5, 6, 7, 8], dtype=int64),\n",
       " array([1, 2, 2, 2, 1, 2, 1, 1, 3], dtype=int64))"
      ]
     },
     "execution_count": 223,
     "metadata": {},
     "output_type": "execute_result"
    }
   ],
   "source": [
    "np.unique(b, return_counts=True)"
   ]
  },
  {
   "cell_type": "code",
   "execution_count": 1,
   "metadata": {},
   "outputs": [],
   "source": [
    "#练习: 按照下列未完成的函数中Docstrings(文档字符串)的要求，将函数补充完整"
   ]
  },
  {
   "cell_type": "code",
   "execution_count": 2,
   "metadata": {},
   "outputs": [],
   "source": [
    "import numpy as np\n",
    "\n",
    "def create_array():\n",
    "    '''\n",
    "    返回一个满足以下4个条件的数组:\n",
    "    1. 一维数组\n",
    "    2. 从0开始，并包含每第三个数\n",
    "        (比如： 0, 3, 6, 9...).\n",
    "    3. 结束的最后一个数字为1101.\n",
    "    4. 全部由整数构成\n",
    "    Arguments:\n",
    "    None\n",
    "    Returns:\n",
    "    输出: 返回一个满足上述条件的数组\n",
    "    '''\n"
   ]
  },
  {
   "cell_type": "code",
   "execution_count": 22,
   "metadata": {},
   "outputs": [],
   "source": [
    "import numpy as np\n",
    "\n",
    "def create_array():\n",
    "    '''\n",
    "    返回一个满足以下4个条件的数组:\n",
    "    1. 一维数组\n",
    "    2. 从0开始，并包含每第三个数\n",
    "        (比如： 0, 3, 6, 9...).\n",
    "    3. 结束的最后一个数字为1101.\n",
    "    4. 全部由整数构成\n",
    "    Arguments:\n",
    "    None\n",
    "    Returns:\n",
    "    输出: 返回一个满足上述条件的数组\n",
    "    '''\n",
    "\n",
    "    return np.arange(0,1102,3)"
   ]
  },
  {
   "cell_type": "code",
   "execution_count": 25,
   "metadata": {},
   "outputs": [
    {
     "data": {
      "text/plain": [
       "array([   0,    3,    6,    9,   12,   15,   18,   21,   24,   27,   30,\n",
       "         33,   36,   39,   42,   45,   48,   51,   54,   57,   60,   63,\n",
       "         66,   69,   72,   75,   78,   81,   84,   87,   90,   93,   96,\n",
       "         99,  102,  105,  108,  111,  114,  117,  120,  123,  126,  129,\n",
       "        132,  135,  138,  141,  144,  147,  150,  153,  156,  159,  162,\n",
       "        165,  168,  171,  174,  177,  180,  183,  186,  189,  192,  195,\n",
       "        198,  201,  204,  207,  210,  213,  216,  219,  222,  225,  228,\n",
       "        231,  234,  237,  240,  243,  246,  249,  252,  255,  258,  261,\n",
       "        264,  267,  270,  273,  276,  279,  282,  285,  288,  291,  294,\n",
       "        297,  300,  303,  306,  309,  312,  315,  318,  321,  324,  327,\n",
       "        330,  333,  336,  339,  342,  345,  348,  351,  354,  357,  360,\n",
       "        363,  366,  369,  372,  375,  378,  381,  384,  387,  390,  393,\n",
       "        396,  399,  402,  405,  408,  411,  414,  417,  420,  423,  426,\n",
       "        429,  432,  435,  438,  441,  444,  447,  450,  453,  456,  459,\n",
       "        462,  465,  468,  471,  474,  477,  480,  483,  486,  489,  492,\n",
       "        495,  498,  501,  504,  507,  510,  513,  516,  519,  522,  525,\n",
       "        528,  531,  534,  537,  540,  543,  546,  549,  552,  555,  558,\n",
       "        561,  564,  567,  570,  573,  576,  579,  582,  585,  588,  591,\n",
       "        594,  597,  600,  603,  606,  609,  612,  615,  618,  621,  624,\n",
       "        627,  630,  633,  636,  639,  642,  645,  648,  651,  654,  657,\n",
       "        660,  663,  666,  669,  672,  675,  678,  681,  684,  687,  690,\n",
       "        693,  696,  699,  702,  705,  708,  711,  714,  717,  720,  723,\n",
       "        726,  729,  732,  735,  738,  741,  744,  747,  750,  753,  756,\n",
       "        759,  762,  765,  768,  771,  774,  777,  780,  783,  786,  789,\n",
       "        792,  795,  798,  801,  804,  807,  810,  813,  816,  819,  822,\n",
       "        825,  828,  831,  834,  837,  840,  843,  846,  849,  852,  855,\n",
       "        858,  861,  864,  867,  870,  873,  876,  879,  882,  885,  888,\n",
       "        891,  894,  897,  900,  903,  906,  909,  912,  915,  918,  921,\n",
       "        924,  927,  930,  933,  936,  939,  942,  945,  948,  951,  954,\n",
       "        957,  960,  963,  966,  969,  972,  975,  978,  981,  984,  987,\n",
       "        990,  993,  996,  999, 1002, 1005, 1008, 1011, 1014, 1017, 1020,\n",
       "       1023, 1026, 1029, 1032, 1035, 1038, 1041, 1044, 1047, 1050, 1053,\n",
       "       1056, 1059, 1062, 1065, 1068, 1071, 1074, 1077, 1080, 1083, 1086,\n",
       "       1089, 1092, 1095, 1098, 1101])"
      ]
     },
     "execution_count": 25,
     "metadata": {},
     "output_type": "execute_result"
    }
   ],
   "source": [
    "a=create_array()\n",
    "a"
   ]
  }
 ],
 "metadata": {
  "kernelspec": {
   "display_name": "Python 3 (ipykernel)",
   "language": "python",
   "name": "python3"
  },
  "language_info": {
   "codemirror_mode": {
    "name": "ipython",
    "version": 3
   },
   "file_extension": ".py",
   "mimetype": "text/x-python",
   "name": "python",
   "nbconvert_exporter": "python",
   "pygments_lexer": "ipython3",
   "version": "3.7.4"
  }
 },
 "nbformat": 4,
 "nbformat_minor": 2
}
